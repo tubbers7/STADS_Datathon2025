{
 "cells": [
  {
   "cell_type": "code",
   "execution_count": 1,
   "metadata": {},
   "outputs": [],
   "source": [
    "import pandas as pd\n",
    "import numpy as np"
   ]
  },
  {
   "cell_type": "code",
   "execution_count": 10,
   "metadata": {},
   "outputs": [],
   "source": [
    "file_path = '/Users/toby/Downloads/20025-03-07_cgm-datathon-challenge-flu_riskgroupsv1.csv'\n",
    "df = pd.read_csv(file_path, sep=';')"
   ]
  },
  {
   "cell_type": "code",
   "execution_count": 12,
   "metadata": {},
   "outputs": [
    {
     "data": {
      "text/html": [
       "<div>\n",
       "<style scoped>\n",
       "    .dataframe tbody tr th:only-of-type {\n",
       "        vertical-align: middle;\n",
       "    }\n",
       "\n",
       "    .dataframe tbody tr th {\n",
       "        vertical-align: top;\n",
       "    }\n",
       "\n",
       "    .dataframe thead th {\n",
       "        text-align: right;\n",
       "    }\n",
       "</style>\n",
       "<table border=\"1\" class=\"dataframe\">\n",
       "  <thead>\n",
       "    <tr style=\"text-align: right;\">\n",
       "      <th></th>\n",
       "      <th>week</th>\n",
       "      <th>kvregion</th>\n",
       "      <th>region</th>\n",
       "      <th>specialization</th>\n",
       "      <th>gender</th>\n",
       "      <th>age_group</th>\n",
       "      <th>insurancecode</th>\n",
       "      <th>insurancetype</th>\n",
       "      <th>risk_groups</th>\n",
       "      <th>absolute</th>\n",
       "      <th>extrapolated</th>\n",
       "    </tr>\n",
       "  </thead>\n",
       "  <tbody>\n",
       "    <tr>\n",
       "      <th>0</th>\n",
       "      <td>2024-31</td>\n",
       "      <td>Baden-Württemberg</td>\n",
       "      <td>Region Süd</td>\n",
       "      <td>1</td>\n",
       "      <td>m</td>\n",
       "      <td>30-59</td>\n",
       "      <td>375</td>\n",
       "      <td>GKV</td>\n",
       "      <td>NaN</td>\n",
       "      <td>1</td>\n",
       "      <td>44</td>\n",
       "    </tr>\n",
       "    <tr>\n",
       "      <th>1</th>\n",
       "      <td>2024-31</td>\n",
       "      <td>Baden-Württemberg</td>\n",
       "      <td>Region Süd</td>\n",
       "      <td>3</td>\n",
       "      <td>f</td>\n",
       "      <td>60-199</td>\n",
       "      <td>89111</td>\n",
       "      <td>GKV</td>\n",
       "      <td>NaN</td>\n",
       "      <td>1</td>\n",
       "      <td>59</td>\n",
       "    </tr>\n",
       "    <tr>\n",
       "      <th>2</th>\n",
       "      <td>2024-31</td>\n",
       "      <td>Rheinland-Pfalz</td>\n",
       "      <td>Region West</td>\n",
       "      <td>1</td>\n",
       "      <td>f</td>\n",
       "      <td>30-59</td>\n",
       "      <td>89111</td>\n",
       "      <td>GKV</td>\n",
       "      <td>NaN</td>\n",
       "      <td>1</td>\n",
       "      <td>41</td>\n",
       "    </tr>\n",
       "    <tr>\n",
       "      <th>3</th>\n",
       "      <td>2024-32</td>\n",
       "      <td>Baden-Württemberg</td>\n",
       "      <td>Region Süd</td>\n",
       "      <td>1</td>\n",
       "      <td>f</td>\n",
       "      <td>30-59</td>\n",
       "      <td>375</td>\n",
       "      <td>GKV</td>\n",
       "      <td>NaN</td>\n",
       "      <td>1</td>\n",
       "      <td>45</td>\n",
       "    </tr>\n",
       "    <tr>\n",
       "      <th>4</th>\n",
       "      <td>2024-32</td>\n",
       "      <td>Baden-Württemberg</td>\n",
       "      <td>Region Süd</td>\n",
       "      <td>1</td>\n",
       "      <td>f</td>\n",
       "      <td>30-59</td>\n",
       "      <td>375</td>\n",
       "      <td>PKV</td>\n",
       "      <td>NaN</td>\n",
       "      <td>1</td>\n",
       "      <td>45</td>\n",
       "    </tr>\n",
       "  </tbody>\n",
       "</table>\n",
       "</div>"
      ],
      "text/plain": [
       "      week           kvregion       region  specialization gender age_group  \\\n",
       "0  2024-31  Baden-Württemberg   Region Süd               1      m     30-59   \n",
       "1  2024-31  Baden-Württemberg   Region Süd               3      f    60-199   \n",
       "2  2024-31    Rheinland-Pfalz  Region West               1      f     30-59   \n",
       "3  2024-32  Baden-Württemberg   Region Süd               1      f     30-59   \n",
       "4  2024-32  Baden-Württemberg   Region Süd               1      f     30-59   \n",
       "\n",
       "  insurancecode insurancetype risk_groups  absolute  extrapolated  \n",
       "0           375           GKV         NaN         1            44  \n",
       "1         89111           GKV         NaN         1            59  \n",
       "2         89111           GKV         NaN         1            41  \n",
       "3           375           GKV         NaN         1            45  \n",
       "4           375           PKV         NaN         1            45  "
      ]
     },
     "execution_count": 12,
     "metadata": {},
     "output_type": "execute_result"
    }
   ],
   "source": [
    "df.head(5)"
   ]
  },
  {
   "cell_type": "code",
   "execution_count": 51,
   "metadata": {},
   "outputs": [
    {
     "data": {
      "text/plain": [
       "risk_groups\n",
       "NaN                          0.551120\n",
       "Hypertonie                   0.132328\n",
       "Diabetes T2                  0.083597\n",
       "Asthma                       0.063372\n",
       "Chronische Herzkreislauf     0.059288\n",
       "COPD                         0.048369\n",
       "Chronische Leberkrankheit    0.047563\n",
       "Diabetes T1                  0.014364\n",
       "Name: proportion, dtype: float64"
      ]
     },
     "execution_count": 51,
     "metadata": {},
     "output_type": "execute_result"
    }
   ],
   "source": [
    "df['risk_groups'].value_counts(normalize=True, dropna=False)"
   ]
  },
  {
   "cell_type": "code",
   "execution_count": 14,
   "metadata": {},
   "outputs": [
    {
     "data": {
      "text/plain": [
       "array([nan, 'Chronische Leberkrankheit', 'Hypertonie', 'Asthma', 'COPD',\n",
       "       'Chronische Herzkreislauf', 'Diabetes T2', 'Diabetes T1'],\n",
       "      dtype=object)"
      ]
     },
     "execution_count": 14,
     "metadata": {},
     "output_type": "execute_result"
    }
   ],
   "source": [
    "df['risk_groups'].unique()"
   ]
  },
  {
   "cell_type": "code",
   "execution_count": 61,
   "metadata": {},
   "outputs": [
    {
     "data": {
      "text/html": [
       "<div>\n",
       "<style scoped>\n",
       "    .dataframe tbody tr th:only-of-type {\n",
       "        vertical-align: middle;\n",
       "    }\n",
       "\n",
       "    .dataframe tbody tr th {\n",
       "        vertical-align: top;\n",
       "    }\n",
       "\n",
       "    .dataframe thead th {\n",
       "        text-align: right;\n",
       "    }\n",
       "</style>\n",
       "<table border=\"1\" class=\"dataframe\">\n",
       "  <thead>\n",
       "    <tr style=\"text-align: right;\">\n",
       "      <th></th>\n",
       "      <th>Description</th>\n",
       "      <th>Proportion of Population</th>\n",
       "    </tr>\n",
       "  </thead>\n",
       "  <tbody>\n",
       "    <tr>\n",
       "      <th>0</th>\n",
       "      <td>Proportion of people reporting diabetes in the...</td>\n",
       "      <td>7.2</td>\n",
       "    </tr>\n",
       "    <tr>\n",
       "      <th>1</th>\n",
       "      <td>Proportion of men reporting diagnosed diabetes...</td>\n",
       "      <td>8.0</td>\n",
       "    </tr>\n",
       "    <tr>\n",
       "      <th>2</th>\n",
       "      <td>Proportion of women reporting diagnosed diabet...</td>\n",
       "      <td>6.4</td>\n",
       "    </tr>\n",
       "    <tr>\n",
       "      <th>3</th>\n",
       "      <td>Proportion of people reporting asthma in the p...</td>\n",
       "      <td>6.1</td>\n",
       "    </tr>\n",
       "    <tr>\n",
       "      <th>4</th>\n",
       "      <td>Proportion of men reporting asthma in the past...</td>\n",
       "      <td>5.3</td>\n",
       "    </tr>\n",
       "    <tr>\n",
       "      <th>5</th>\n",
       "      <td>Proportion of women reporting asthma in the pa...</td>\n",
       "      <td>6.9</td>\n",
       "    </tr>\n",
       "    <tr>\n",
       "      <th>6</th>\n",
       "      <td>Proportion of people reporting chronic obstruc...</td>\n",
       "      <td>5.3</td>\n",
       "    </tr>\n",
       "    <tr>\n",
       "      <th>7</th>\n",
       "      <td>Proportion of men reporting chronic obstructiv...</td>\n",
       "      <td>5.2</td>\n",
       "    </tr>\n",
       "    <tr>\n",
       "      <th>8</th>\n",
       "      <td>Proportion of women reporting chronic obstruct...</td>\n",
       "      <td>5.3</td>\n",
       "    </tr>\n",
       "  </tbody>\n",
       "</table>\n",
       "</div>"
      ],
      "text/plain": [
       "                                         Description  Proportion of Population\n",
       "0  Proportion of people reporting diabetes in the...                       7.2\n",
       "1  Proportion of men reporting diagnosed diabetes...                       8.0\n",
       "2  Proportion of women reporting diagnosed diabet...                       6.4\n",
       "3  Proportion of people reporting asthma in the p...                       6.1\n",
       "4  Proportion of men reporting asthma in the past...                       5.3\n",
       "5  Proportion of women reporting asthma in the pa...                       6.9\n",
       "6  Proportion of people reporting chronic obstruc...                       5.3\n",
       "7  Proportion of men reporting chronic obstructiv...                       5.2\n",
       "8  Proportion of women reporting chronic obstruct...                       5.3"
      ]
     },
     "execution_count": 61,
     "metadata": {},
     "output_type": "execute_result"
    }
   ],
   "source": [
    "# First Data from : https://webgate.ec.europa.eu/dyna/echi/?indlist=21a :: value is the proportion to the population\n",
    "# asthma (combined, diabities (can combine T1 and T2), chronic obstructive pulmonary disease\n",
    "disease = pd.read_excel('/Users/toby/Downloads/echi-export-HSIND027001_HSIND027003_HSIND027002_HSIND029001_HSIND029003_HSIND030001_HSIND030002_HSIN.xlsx')\n",
    "disease = disease.drop(columns = ['Flag', 'FlagDescr', 'Code', 'Iso', 'Country', 'Year'])\n",
    "disease = disease.rename(columns= {'Value' : 'Proportion of Population'})\n",
    "disease.head(50)"
   ]
  },
  {
   "cell_type": "markdown",
   "metadata": {},
   "source": [
    "have:\n",
    "- asthma, diabietes, heart disease\n",
    "\n",
    "need:\n",
    "- chronic liver disease, herzkreislauf, hypertonie\n",
    "\n",
    "Found:\n",
    "- Liver: https://www.deutsche-leberstiftung.de/presse/pressemappe/lebererkrankungen/\n",
    "    5 mio\n",
    "    - using pop 2014: 80.98 million (2014) then 5/81 = 0.06172 = 6.2%\n",
    "\n",
    "- Herzkreislauf: 2014: https://www.gbe.rki.de/DE/Themen/Gesundheitszustand/KoerperlicheErkrankungen/HerzKreislaufErkrankungen/KoronareHerzerkrankungPraevalenz/koronareHerzerkrankungPraevalenz_node.html?darstellung=0&kennzahl=1&zeit=2014&geschlecht=0&standardisierung=0#_p68l57ky2\n",
    "    18-44 : 1,4%\n",
    "    45-64   6.5%\n",
    "    65-79   18,7%\n",
    "    >= 80   31,6%\n",
    "\n",
    "- Hyptonie: https://edoc.rki.de/bitstream/handle/176904/2581/JoHM_2017_01_gesundheitliche_lage3.pdf?sequence=4&isAllowed=y\n",
    "\n"
   ]
  },
  {
   "cell_type": "code",
   "execution_count": 57,
   "metadata": {},
   "outputs": [
    {
     "data": {
      "text/plain": [
       "array([nan, 'Chronische Leberkrankheit', 'Hypertonie', 'Asthma', 'COPD',\n",
       "       'Chronische Herzkreislauf', 'Diabetes T2', 'Diabetes T1'],\n",
       "      dtype=object)"
      ]
     },
     "execution_count": 57,
     "metadata": {},
     "output_type": "execute_result"
    }
   ],
   "source": [
    "df['risk_groups'].unique()"
   ]
  },
  {
   "cell_type": "code",
   "execution_count": 63,
   "metadata": {},
   "outputs": [
    {
     "data": {
      "text/html": [
       "<div>\n",
       "<style scoped>\n",
       "    .dataframe tbody tr th:only-of-type {\n",
       "        vertical-align: middle;\n",
       "    }\n",
       "\n",
       "    .dataframe tbody tr th {\n",
       "        vertical-align: top;\n",
       "    }\n",
       "\n",
       "    .dataframe thead th {\n",
       "        text-align: right;\n",
       "    }\n",
       "</style>\n",
       "<table border=\"1\" class=\"dataframe\">\n",
       "  <thead>\n",
       "    <tr style=\"text-align: right;\">\n",
       "      <th></th>\n",
       "      <th>Disease</th>\n",
       "      <th>Prevelance</th>\n",
       "    </tr>\n",
       "  </thead>\n",
       "  <tbody>\n",
       "    <tr>\n",
       "      <th>0</th>\n",
       "      <td>Chronische Leberkrankheit</td>\n",
       "      <td>6.2</td>\n",
       "    </tr>\n",
       "    <tr>\n",
       "      <th>1</th>\n",
       "      <td>Chronische Herzkreislauf</td>\n",
       "      <td>7.6</td>\n",
       "    </tr>\n",
       "    <tr>\n",
       "      <th>2</th>\n",
       "      <td>Diabetes T1</td>\n",
       "      <td>7.2</td>\n",
       "    </tr>\n",
       "    <tr>\n",
       "      <th>3</th>\n",
       "      <td>Diabetes T2</td>\n",
       "      <td>7.2</td>\n",
       "    </tr>\n",
       "    <tr>\n",
       "      <th>4</th>\n",
       "      <td>Asthma</td>\n",
       "      <td>6.1</td>\n",
       "    </tr>\n",
       "    <tr>\n",
       "      <th>5</th>\n",
       "      <td>COPD</td>\n",
       "      <td>5.3</td>\n",
       "    </tr>\n",
       "    <tr>\n",
       "      <th>6</th>\n",
       "      <td>Hypertonie</td>\n",
       "      <td>31.8</td>\n",
       "    </tr>\n",
       "  </tbody>\n",
       "</table>\n",
       "</div>"
      ],
      "text/plain": [
       "                     Disease  Prevelance\n",
       "0  Chronische Leberkrankheit         6.2\n",
       "1   Chronische Herzkreislauf         7.6\n",
       "2                Diabetes T1         7.2\n",
       "3                Diabetes T2         7.2\n",
       "4                     Asthma         6.1\n",
       "5                       COPD         5.3\n",
       "6                 Hypertonie        31.8"
      ]
     },
     "execution_count": 63,
     "metadata": {},
     "output_type": "execute_result"
    }
   ],
   "source": [
    "simple_disease = pd.DataFrame(columns=['Disease', 'Prevelance'])\n",
    "simple_disease.loc[len(simple_disease)] = ['Chronische Leberkrankheit', 6.2]\n",
    "simple_disease.loc[len(simple_disease)] = ['Chronische Herzkreislauf', 7.6]\n",
    "simple_disease.loc[len(simple_disease)] = ['Diabetes T1', 7.2]\n",
    "simple_disease.loc[len(simple_disease)] = ['Diabetes T2', 7.2]\n",
    "simple_disease.loc[len(simple_disease)] = ['Asthma', 6.1]\n",
    "simple_disease.loc[len(simple_disease)] = ['COPD', 5.3]\n",
    "simple_disease.loc[len(simple_disease)] = ['Hypertonie', 31.8]\n",
    "simple_disease.head(50)"
   ]
  },
  {
   "cell_type": "code",
   "execution_count": 65,
   "metadata": {},
   "outputs": [],
   "source": [
    "simple_disease.to_csv('disease_prevelance_simple.csv')"
   ]
  }
 ],
 "metadata": {
  "kernelspec": {
   "display_name": "stads_dt",
   "language": "python",
   "name": "python3"
  },
  "language_info": {
   "codemirror_mode": {
    "name": "ipython",
    "version": 3
   },
   "file_extension": ".py",
   "mimetype": "text/x-python",
   "name": "python",
   "nbconvert_exporter": "python",
   "pygments_lexer": "ipython3",
   "version": "3.13.2"
  }
 },
 "nbformat": 4,
 "nbformat_minor": 2
}
