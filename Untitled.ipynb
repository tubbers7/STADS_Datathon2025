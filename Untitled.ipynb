{
 "cells": [
  {
   "cell_type": "code",
   "execution_count": 2,
   "id": "6f46655b-daa5-40de-9b86-cbb5205e5c69",
   "metadata": {},
   "outputs": [
    {
     "name": "stdout",
     "output_type": "stream",
     "text": [
      "      specialization  Year  CalendarWeek  absolute  extrapolated  \\\n",
      "0                0.0  2023             1       0.0           0.0   \n",
      "1                0.0  2024             1       0.0           0.0   \n",
      "2                1.0  2025             1      10.0         481.0   \n",
      "3                3.0  2025             1      12.0         744.0   \n",
      "4                0.0  2023             2       0.0           0.0   \n",
      "...              ...   ...           ...       ...           ...   \n",
      "2349             2.0  2024            51       4.0           0.0   \n",
      "2350             3.0  2024            51      80.0        3837.0   \n",
      "2351             0.0  2023            52       0.0           0.0   \n",
      "2352             1.0  2024            52      12.0         309.0   \n",
      "2353             3.0  2024            52      12.0         576.0   \n",
      "\n",
      "                 Region  InfluenzaCases  Population  InfluenzaCasesPerCapita  \\\n",
      "0     Baden-Württemberg            1332    11230740                 0.000119   \n",
      "1     Baden-Württemberg             793    11230740                 0.000071   \n",
      "2     Baden-Württemberg             598    11230740                 0.000053   \n",
      "3     Baden-Württemberg             598    11230740                 0.000053   \n",
      "4     Baden-Württemberg             722    11230740                 0.000064   \n",
      "...                 ...             ...         ...                      ...   \n",
      "2349          Thüringen             307     2114870                 0.000145   \n",
      "2350          Thüringen             307     2114870                 0.000145   \n",
      "2351          Thüringen             156     2114870                 0.000074   \n",
      "2352          Thüringen             136     2114870                 0.000064   \n",
      "2353          Thüringen             136     2114870                 0.000064   \n",
      "\n",
      "      VaccinationsPerCapita  \n",
      "0                  0.000000  \n",
      "1                  0.000000  \n",
      "2                  0.000043  \n",
      "3                  0.000066  \n",
      "4                  0.000000  \n",
      "...                     ...  \n",
      "2349               0.000000  \n",
      "2350               0.001814  \n",
      "2351               0.000000  \n",
      "2352               0.000146  \n",
      "2353               0.000272  \n",
      "\n",
      "[2354 rows x 10 columns]\n"
     ]
    }
   ],
   "source": [
    "from untitled import load_influenza_df, load_age_df, load_vaccine_df, merge_vac_cases, create_geo_df\n",
    "import os \n",
    "import pandas as pd\n",
    "\n",
    "df_cases = load_influenza_df()\n",
    "df_grouped = load_age_df()\n",
    "df_vac = load_vaccine_df()\n",
    "#print(df_vac)\n",
    "df_merged = merge_vac_cases(df_vac, df_cases)\n",
    "df_merged = df_merged.fillna(0)\n",
    "print(df_merged)"
   ]
  },
  {
   "cell_type": "code",
   "execution_count": null,
   "id": "86ba1844-49ee-4835-a15d-26ded2210cca",
   "metadata": {},
   "outputs": [],
   "source": [
    "file_path_1 = \"20025-03-07_cgm-datathon-challenge-flu_v1.csv\"\n",
    "df1 = pd.read_csv(file_path_1, sep=\";\")\n",
    "df1[['Year', 'CalendarWeek']] = df1['week'].str.split('-', expand=True)\n",
    "df1['Year'] = df1['Year'].astype(int)  # Convert to integer\n",
    "df1['CalendarWeek'] = df1['CalendarWeek'].astype(int)\n",
    "# Remove the gender column (you are grouping by other columns)\n",
    "df1 = df1.drop(columns=['gender'])\n",
    "df1 = df1.drop(columns=['age_group'])\n",
    "df1 = df1.drop(columns=['region'])\n",
    "df1 = df1.drop(columns=['week'])\n",
    "\n",
    "# Group by the relevant columns (week, region, age group, etc.)\n",
    "df_aggregated = df1.groupby(['kvregion', 'specialization', 'Year', 'CalendarWeek'], as_index=False).agg({\n",
    "    'absolute': 'sum',          # Aggregate absolute cases (sum)\n",
    "    'extrapolated': 'sum'      # Aggregate extrapolated cases (sum)\n",
    "})"
   ]
  },
  {
   "cell_type": "code",
   "execution_count": null,
   "id": "f15361db-0a76-40ed-850d-2b4af8d51422",
   "metadata": {},
   "outputs": [],
   "source": [
    "df_merged = merge_vac_cases(df_aggregated, df_cases)\n",
    "df_merged['Population'] = df_merged['Region'].map(population_counts)\n",
    "\n",
    "# Step 2: Scale InfluenzaCases by the population (per capita)\n",
    "df_merged['InfluenzaCasesPerCapita'] = df_merged['InfluenzaCases'] / df_merged['Population']\n",
    "\n",
    "df_merged['VaccinationsPerCapita'] = df_merged['extrapolated'] / df_merged['Population']\n",
    "\n",
    "print(df_merged['VaccinationsPerCapita'].sum()/16)\n",
    "print(df_merged)"
   ]
  },
  {
   "cell_type": "code",
   "execution_count": 3,
   "id": "4994c7dd-74c3-4c3c-99b4-0bdc83dd51e5",
   "metadata": {},
   "outputs": [
    {
     "data": {
      "image/png": "[encoded data removed]",
      "text/plain": [
       "<Figure size 640x480 with 1 Axes>"
      ]
     },
     "metadata": {},
     "output_type": "display_data"
    }
   ],
   "source": [
    "import matplotlib.pyplot as plt\n",
    "df = create_geo_df(df_merged)\n",
    "df.plot()\n",
    "plt.show()"
   ]
  },
  {
   "cell_type": "code",
   "execution_count": 7,
   "id": "2d0bcd1e-1753-4316-a4bf-60c170e0924a",
   "metadata": {},
   "outputs": [
    {
     "data": {
      "application/vnd.jupyter.widget-view+json": {
       "model_id": "ecaabf61330d45e0967e5edc8626df89",
       "version_major": 2,
       "version_minor": 0
      },
      "text/plain": [
       "interactive(children=(SelectionSlider(description='Select Week:', options=(('2023-01-02', datetime.datetime(20…"
      ]
     },
     "execution_count": 7,
     "metadata": {},
     "output_type": "execute_result"
    }
   ],
   "source": [
    "import ipywidgets as widgets\n",
    "from datetime import datetime, timedelta\n",
    "import geopandas as gpd\n",
    "# Create a function to generate datetime objects based on year and week number\n",
    "def get_datetime_from_week(year, week):\n",
    "    first_day_of_year = datetime(year, 1, 1)\n",
    "    # Calculate the first day of the given week\n",
    "    delta_days = timedelta(weeks=week - 1)\n",
    "    first_day_of_week = first_day_of_year + delta_days\n",
    "    return first_day_of_week\n",
    "\n",
    "# Create the slider for selecting a calendar week and year\n",
    "start_date = datetime.fromisocalendar(df['Year'].min(), df.loc[df['Year']==df['Year'].min(), 'CalendarWeek'].min(), 1)#datetime(2024, 7, 29)  # Start from Calendar Week 1 of 2024\n",
    "end_date = datetime.fromisocalendar(df['Year'].max(), df.loc[df['Year']==df['Year'].max(), 'CalendarWeek'].max(), 1)#datetime(2025, 1, 27)    # End at Calendar Week 10 of 2025\n",
    "\n",
    "# Create a list of all the weeks from start to end\n",
    "weeks = []\n",
    "current_date = start_date\n",
    "while current_date <= end_date:\n",
    "    weeks.append(current_date)\n",
    "    current_date += timedelta(weeks=1)\n",
    "\n",
    "# Create a slider using ipywidgets to select a datetime value\n",
    "week_slider = widgets.SelectionSlider(\n",
    "    options=[(week.strftime('%Y-%m-%d'), week) for week in weeks],\n",
    "    value=weeks[0],  # Default value\n",
    "    description='Select Week:',\n",
    "    style={'description_width': 'initial'},\n",
    ")\n",
    "\n",
    "# Function to update the DataFrame based on the selected week\n",
    "def plot_influenza(selected_date):\n",
    "    #plot_column='extrapolated'#\n",
    "    #plot_column='InfluenzaCases'\n",
    "    plot_column = 'InfluenzaCasesPerCapita'\n",
    "    \n",
    "    # Extract the year and week number from the selected date\n",
    "    year = selected_date.year\n",
    "    week = selected_date.isocalendar()[1]\n",
    "    \n",
    "    # Filter the DataFrame based on the selected year and calendar week\n",
    "    filtered_df = df[(df['Year'] == year) & (df['CalendarWeek'] == week)]\n",
    "    \n",
    "    # Display the filtered DataFrame\n",
    "    #print(f\"Selected Week: {selected_date.strftime('%Y-%m-%d')}\")\n",
    "    #print(f\"Year: {year}, Week: {week}\")\n",
    "    #print(filtered_df)\n",
    "    #df_week_43 = df[df['CalendarWeek'] == 42]\n",
    "\n",
    "    # Step 2: Convert your DataFrame to a GeoDataFrame if it's not one already\n",
    "    gdf = gpd.GeoDataFrame(filtered_df, geometry='geometry')\n",
    "    \n",
    "    # Step 3: Set up the plot\n",
    "    fig, ax = plt.subplots(figsize=(5, 5))\n",
    "    \n",
    "    # Step 4: Plot the regions, color them by InfluenzaCases\n",
    "    gdf.plot(column=plot_column, ax=ax, legend=True,\n",
    "             legend_kwds={'label': f\"{plot_column}\",\n",
    "                          'orientation': \"horizontal\"},\n",
    "             cmap='YlOrRd')  # You can change the colormap ('YlOrRd', 'viridis', etc.)\n",
    "    \n",
    "    # Step 5: Add titles and labels\n",
    "    #ax.set_title('Influenza Cases by Region for Calendar Week 43', fontsize=15)\n",
    "    #ax.set_xlabel('Longitude')\n",
    "    #ax.set_ylabel('Latitude')\n",
    "    \n",
    "    # Show the plot\n",
    "    plt.axis('off')\n",
    "    plt.show()\n",
    "\n",
    "# Observe changes to the slider and update the DataFrame\n",
    "widgets.interactive(plot_influenza, selected_date=week_slider)"
   ]
  },
  {
   "cell_type": "code",
   "execution_count": 5,
   "id": "c343afd7-9cc0-46bf-a8a3-b32d88ecb826",
   "metadata": {},
   "outputs": [
    {
     "ename": "NameError",
     "evalue": "name 'df_long' is not defined",
     "output_type": "error",
     "traceback": [
      "\u001b[31m---------------------------------------------------------------------------\u001b[39m",
      "\u001b[31mNameError\u001b[39m                                 Traceback (most recent call last)",
      "\u001b[36mCell\u001b[39m\u001b[36m \u001b[39m\u001b[32mIn[5]\u001b[39m\u001b[32m, line 14\u001b[39m\n\u001b[32m     10\u001b[39m age_gender_distribution[\u001b[33m'\u001b[39m\u001b[33mNonBinaryShare\u001b[39m\u001b[33m'\u001b[39m] = age_gender_distribution[\u001b[33m'\u001b[39m\u001b[33mNonBinary\u001b[39m\u001b[33m'\u001b[39m] / age_gender_distribution[\u001b[33m'\u001b[39m\u001b[33mTotal\u001b[39m\u001b[33m'\u001b[39m]\n\u001b[32m     12\u001b[39m \u001b[38;5;66;03m# Now, apply this to the original DataFrame (which has `InfluenzaCases`)\u001b[39;00m\n\u001b[32m     13\u001b[39m \u001b[38;5;66;03m# Assuming your main DataFrame is called df_main\u001b[39;00m\n\u001b[32m---> \u001b[39m\u001b[32m14\u001b[39m df_main = \u001b[43mdf_long\u001b[49m.copy()\n\u001b[32m     16\u001b[39m \u001b[38;5;66;03m# Merge the gender-age distribution with the original data based on AgeCategory\u001b[39;00m\n\u001b[32m     17\u001b[39m df_main = df_main.merge(age_gender_distribution[[\u001b[33m'\u001b[39m\u001b[33mAgeCategory\u001b[39m\u001b[33m'\u001b[39m, \u001b[33m'\u001b[39m\u001b[33mMaleShare\u001b[39m\u001b[33m'\u001b[39m, \u001b[33m'\u001b[39m\u001b[33mFemaleShare\u001b[39m\u001b[33m'\u001b[39m, \u001b[33m'\u001b[39m\u001b[33mNonBinaryShare\u001b[39m\u001b[33m'\u001b[39m]],\n\u001b[32m     18\u001b[39m                         on=\u001b[33m'\u001b[39m\u001b[33mAgeCategory\u001b[39m\u001b[33m'\u001b[39m, how=\u001b[33m'\u001b[39m\u001b[33mleft\u001b[39m\u001b[33m'\u001b[39m)\n",
      "\u001b[31mNameError\u001b[39m: name 'df_long' is not defined"
     ]
    }
   ],
   "source": [
    "# Your gender-age distribution DataFrame (from the previous output)\n",
    "age_gender_distribution = df_grouped.copy()\n",
    "\n",
    "# Calculate total cases per AgeCategory\n",
    "age_gender_distribution['Total'] = age_gender_distribution[['Male', 'Female', 'NonBinary', 'Unknown']].sum(axis=1)\n",
    "\n",
    "# Calculate share for each gender and age group (disregarding 'Unknown')\n",
    "age_gender_distribution['MaleShare'] = age_gender_distribution['Male'] / age_gender_distribution['Total']\n",
    "age_gender_distribution['FemaleShare'] = age_gender_distribution['Female'] / age_gender_distribution['Total']\n",
    "age_gender_distribution['NonBinaryShare'] = age_gender_distribution['NonBinary'] / age_gender_distribution['Total']\n",
    "\n",
    "# Now, apply this to the original DataFrame (which has `InfluenzaCases`)\n",
    "# Assuming your main DataFrame is called df_main\n",
    "df_main = df_long.copy()\n",
    "\n",
    "# Merge the gender-age distribution with the original data based on AgeCategory\n",
    "df_main = df_main.merge(age_gender_distribution[['AgeCategory', 'MaleShare', 'FemaleShare', 'NonBinaryShare']],\n",
    "                        on='AgeCategory', how='left')\n",
    "\n",
    "# Now, calculate the cases for each group (Male, Female, NonBinary) by multiplying with the InfluenzaCases\n",
    "df_main['MaleCases'] = df_main['InfluenzaCases'] * df_main['MaleShare']\n",
    "df_main['FemaleCases'] = df_main['InfluenzaCases'] * df_main['FemaleShare']\n",
    "df_main['NonBinaryCases'] = df_main['InfluenzaCases'] * df_main['NonBinaryShare']\n",
    "\n",
    "# Optionally, drop the 'Unknown' category if needed, or handle them as needed\n",
    "df_main = df_main.drop(columns=['Unknown', 'MaleShare', 'FemaleShare', 'NonBinaryShare'])\n",
    "\n",
    "# Display the resulting DataFrame\n",
    "print(df_main[['Bundesland', 'CalendarWeek', 'Year', 'InfluenzaCases', 'MaleCases', 'FemaleCases', 'NonBinaryCases']])\n"
   ]
  }
 ],
 "metadata": {
  "kernelspec": {
   "display_name": "BasicTS",
   "language": "python",
   "name": "basicts"
  },
  "language_info": {
   "codemirror_mode": {
    "name": "ipython",
    "version": 3
   },
   "file_extension": ".py",
   "mimetype": "text/x-python",
   "name": "python",
   "nbconvert_exporter": "python",
   "pygments_lexer": "ipython3",
   "version": "3.11.11"
  }
 },
 "nbformat": 4,
 "nbformat_minor": 5
}
