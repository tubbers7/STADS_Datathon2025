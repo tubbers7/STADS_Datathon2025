{
 "cells": [
  {
   "cell_type": "code",
   "execution_count": 50,
   "id": "initial_id",
   "metadata": {
    "ExecuteTime": {
     "end_time": "2025-03-07T22:36:16.291622Z",
     "start_time": "2025-03-07T22:36:16.288245Z"
    },
    "collapsed": true
   },
   "outputs": [],
   "source": [
    "import re\n",
    "import pandas as pd\n",
    "import os\n",
    "\n",
    "def lm_emulator(prompt):\n",
    "    test_text = \"\"\"\n",
    "        Ich werde die bereitgestellten Daten analysieren und eine Einschätzung zur Wirkung der Impfkampagne auf die Infektionsrate in NRW im Januar 2022 vornehmen.\n",
    "\n",
    "        1. Analyse der aktuellen Situation:\n",
    "        Infektionsrate: 0.5\n",
    "        Fallzahlen: 1000\n",
    "        Demografische Impftrends: Frauen werden häufiger geimpft als Männer. Menschen mit Hypertonie haben eine höhere Impfquote, besonders über 60-Jährige.\n",
    "        Regionale Impfquote: NRW hat die höchste Impfquote unter den Bundesländern.\n",
    "        Bevölkerungsstruktur: NRW hat eine hohe Bevölkerungsdichte, was die Virusübertragung begünstigt.\n",
    "        Impfquote nach Alter: Ältere Menschen, besonders über 60, werden häufiger geimpft, was den Schutz der vulnerablen Gruppen verbessert.\n",
    "        2. Wissenschaftliche Einschätzung der Impfkampagnenwirkung:\n",
    "        Impfkampagnen führen kurzfristig zu einer Reduktion der Infektionsrate, da mehr Menschen immunisiert werden, was die Übertragung reduziert.\n",
    "        Herdenimmunitätseffekt: Da die Impfquote unter älteren Menschen hoch ist, wird erwartet, dass schwere Krankheitsverläufe reduziert werden.\n",
    "        Geschlechtsspezifischer Einfluss: Männer haben eine niedrigere Impfquote, was potenziell zu einer höheren Infektionsrate in dieser Gruppe führen könnte.\n",
    "        Einfluss der Privatversicherung: Da Männer tendenziell häufiger privat versichert sind, könnte eine unterschiedliche Impfpriorisierung eine Rolle spielen.\n",
    "        3. Prognose für die Infektionsrate in NRW nach der Impfkampagne:\n",
    "        Die Impfkampagne wird voraussichtlich die Infektionsrate senken, jedoch nicht sofort drastisch, da Impfungen einige Zeit benötigen, um eine Immunreaktion zu erzeugen. Basierend auf bisherigen Impfkampagnen und der aktuellen Ausgangslage, könnte die Infektionsrate um 10–20% gesenkt werden.\n",
    "\n",
    "        Geschätzte Infektionsrate nach der Impfkampagne:\n",
    "        Infektionsrate: [0.4]\n",
    "    \"\"\"\n",
    "    return test_text"
   ]
  },
  {
   "cell_type": "code",
   "execution_count": 51,
   "id": "e08875fb6f7c3ece",
   "metadata": {
    "ExecuteTime": {
     "end_time": "2025-03-07T22:36:16.325538Z",
     "start_time": "2025-03-07T22:36:16.320858Z"
    }
   },
   "outputs": [],
   "source": [
    "\n",
    "# Define cache file\n",
    "class Cache:\n",
    "    def __init__(self, columns=None):\n",
    "        \"\"\"\n",
    "        Initialize the cache with customizable columns.\n",
    "        Default columns: ['key1', 'key2', 'key3', 'value']\n",
    "        \"\"\"\n",
    "        self.CACHE_FILE = \"cache.csv\"\n",
    "        self.columns = columns if columns else [\"key1\", \"key2\", \"key3\", \"value\"]\n",
    "        self.key_columns = self.columns[:3]  # First three columns as keys\n",
    "        self.initialize_cache()\n",
    "\n",
    "    def initialize_cache(self):\n",
    "        \"\"\"Ensure the cache file exists with the correct columns.\"\"\"\n",
    "        if not os.path.exists(self.CACHE_FILE):\n",
    "            df = pd.DataFrame(columns=self.columns)\n",
    "            df.to_csv(self.CACHE_FILE, index=False)\n",
    "\n",
    "    def read_cache(self):\n",
    "        \"\"\"Read cache from CSV.\"\"\"\n",
    "        return pd.read_csv(self.CACHE_FILE)\n",
    "\n",
    "    def add_to_cache(self, *values):\n",
    "        \"\"\"Add or update a row in the cache based on the first three columns as keys.\"\"\"\n",
    "        df = self.read_cache()\n",
    "        new_entry = dict(zip(self.columns, values))\n",
    "\n",
    "        # Check if row with matching key columns exists\n",
    "        mask = df[self.key_columns].apply(tuple, axis=1) == tuple(values[:3])\n",
    "        if mask.any():\n",
    "            df.loc[mask, self.columns[3:]] = values[3:]\n",
    "        else:\n",
    "            df = pd.concat([df, pd.DataFrame([new_entry])], ignore_index=True)\n",
    "\n",
    "        df.to_csv(self.CACHE_FILE, index=False)\n",
    "\n",
    "    def get_from_cache(self, *keys):\n",
    "        \"\"\"Retrieve a value from the cache based on the first three columns as keys.\"\"\"\n",
    "        df = self.read_cache()\n",
    "\n",
    "        mask = df[self.key_columns].apply(tuple, axis=1) == tuple(keys)\n",
    "        result = df[mask]\n",
    "        return result.iloc[0].to_dict() if not result.empty else None"
   ]
  },
  {
   "cell_type": "code",
   "execution_count": 52,
   "id": "7338b0babb91b34c",
   "metadata": {
    "ExecuteTime": {
     "end_time": "2025-03-07T22:36:16.343054Z",
     "start_time": "2025-03-07T22:36:16.340416Z"
    }
   },
   "outputs": [],
   "source": [
    "def extract_between_brackets(text):\n",
    "    \"\"\"\n",
    "    Extracts and returns the content inside square brackets from a string.\n",
    "    If multiple brackets exist, it returns a list of all matches.\n",
    "\n",
    "    :param text: The input string.\n",
    "    :return: A string if one match, a list if multiple matches, or None if no match.\n",
    "    \"\"\"\n",
    "    matches = re.findall(r'\\[(.*?)\\]', text)  # Extract content inside square brackets\n",
    "    if not matches:\n",
    "        return None  # Return None if no matches found\n",
    "    return matches if len(matches) > 1 else matches[0]  # Return list if multiple, string if one\n"
   ]
  },
  {
   "cell_type": "code",
   "execution_count": 53,
   "id": "136f6b003ce4339e",
   "metadata": {
    "ExecuteTime": {
     "end_time": "2025-03-07T22:36:16.356148Z",
     "start_time": "2025-03-07T22:36:16.350460Z"
    }
   },
   "outputs": [],
   "source": [
    "def parse_lm_output(output):\n",
    "    \"\"\"\n",
    "    Parses the output from the language model and extracts the predicted values.\n",
    "\n",
    "    :param output: The output text from the language model.\n",
    "    :return: The predicted value(s) as a string or list of strings.\n",
    "    \"\"\"\n",
    "\n",
    "    rate_str = extract_between_brackets(output)\n",
    "    if rate_str is not None:\n",
    "        if type(rate_str) != list:\n",
    "            try:\n",
    "                return float(rate_str)\n",
    "            except ValueError:\n",
    "                return None\n",
    "        else:\n",
    "            try:\n",
    "                return float(rate_str[0])\n",
    "            except ValueError:\n",
    "                return None\n",
    "    return"
   ]
  },
  {
   "cell_type": "code",
   "execution_count": 54,
   "id": "78cb578498af680e",
   "metadata": {
    "ExecuteTime": {
     "end_time": "2025-03-07T22:36:16.368686Z",
     "start_time": "2025-03-07T22:36:16.364349Z"
    }
   },
   "outputs": [],
   "source": [
    "def generate_prompt(bundesland, jahr, monat, fallzahlen, infektionsrate):\n",
    "    general_prompt = f\"Wir führen eine Impfkampagne durch, um die Infektionsrate in {bundesland} im Jahr {jahr} und Monat {monat} zu senken. Analysiere die bereitgestellten Daten zur aktuellen Impfquote, Infektionsrate und weiteren relevanten Faktoren. Berücksichtige dabei dein Wissen über die Region, einschließlich Demografie, Gesundheitsinfrastruktur und bisheriger Impfeffekte. Schätze ein, wie sich die Impfkampagne voraussichtlich auf die Infektionsrate auswirken wird, und begründe deine Einschätzung mit Daten und wissenschaftlichen Erkenntnissen. Abschließend, am Ende deiner Ausgabe, gebe deine geschätzte Infektionsrate für den Zeitraum und das Bundesland, umschlossen von eckigen Klammern zurück d.h. z.B. Infektionsrate: [0.3].\\n\"\n",
    "\n",
    "    data_knowledge = f\"Die Infektionszahlen in {bundesland} im Jahr {jahr} und Monat {monat}. Die Fallzahlen sind {fallzahlen}. Die aktuelle Infektionsrate beträgt {infektionsrate}.\\n\"\n",
    "\n",
    "    exploration_knowledge = (\"Wir haben bereits folgendes rausgefunden: \\n\"\n",
    "                             \"- Frauen werden deutlich häufiger geimpft als Männer.\\n\"\n",
    "                             \"- Tendenziell sind Männer leicht häufiger privat versichert als Frauen.\\n\"\n",
    "                             \"- Menschen, die an Hypertonie erkrankt sind, werden häufiger geimpft als Menschen mit anderen Vorerkrankungen.\\n\"\n",
    "                             \"- Die Impfquote ist in der Altersgruppe über 60 am höchsten.\\n\"\n",
    "                             \"- Innerhalb der Menschen mit Risikogruppe, werden über 60 jährige exponentiell häufiger geimpft als unter 60 jährige. Dies gilt nur linear für Patient mit Astma\\n\"\n",
    "                             \"- Wir wissen, unter Beachtung der Bevölkerungsdichte, dass die Impfquote in den verschiedenen Bundesländern sehr ähnlich ist.\\n\"\n",
    "                             \"- Unter Beachtung der Bevölkerungsdichte, nimmt die Impfquote linear von 7,8% auf 4,3% ab. Dabei sind die Bundesländer absteigend wie folgt gerankt: Nordrhein-Westfahlen, Niedersachsen, Hessen, Baden-Württemberg, Bayern, Bremen, Sachsen-Anhalt, Schleswig-Holstein, Rheinland-Pfalz, Thüringen, Hamburg, Brandenburg, Berlin, Mecklenburg-Vorpommern, Sachsen, Saarland.\\n\"\n",
    "                             )\n",
    "\n",
    "    return general_prompt + data_knowledge + exploration_knowledge\n"
   ]
  },
  {
   "cell_type": "code",
   "execution_count": 55,
   "id": "585515d183265200",
   "metadata": {
    "ExecuteTime": {
     "end_time": "2025-03-07T22:36:16.382731Z",
     "start_time": "2025-03-07T22:36:16.378494Z"
    }
   },
   "outputs": [
    {
     "data": {
      "text/plain": [
       "'Wir führen eine Impfkampagne durch, um die Infektionsrate in NRW im Jahr 2022 und Monat Januar zu senken. Analysiere die bereitgestellten Daten zur aktuellen Impfquote, Infektionsrate und weiteren relevanten Faktoren. Berücksichtige dabei dein Wissen über die Region, einschließlich Demografie, Gesundheitsinfrastruktur und bisheriger Impfeffekte. Schätze ein, wie sich die Impfkampagne voraussichtlich auf die Infektionsrate auswirken wird, und begründe deine Einschätzung mit Daten und wissenschaftlichen Erkenntnissen. Abschließend, am Ende deiner Ausgabe, gebe deine geschätzte Infektionsrate für den Zeitraum und das Bundesland, umschlossen von eckigen Klammern zurück d.h. z.B. Infektionsrate: [0.3].\\nDie Infektionszahlen in NRW im Jahr 2022 und Monat Januar. Die Fallzahlen sind 1000. Die aktuelle Infektionsrate beträgt 0.5.\\nWir haben bereits folgendes rausgefunden: \\n- Frauen werden deutlich häufiger geimpft als Männer.\\n- Tendenziell sind Männer leicht häufiger privat versichert als Frauen.\\n- Menschen, die an Hypertonie erkrankt sind, werden häufiger geimpft als Menschen mit anderen Vorerkrankungen.\\n- Die Impfquote ist in der Altersgruppe über 60 am höchsten.\\n- Innerhalb der Menschen mit Risikogruppe, werden über 60 jährige exponentiell häufiger geimpft als unter 60 jährige. Dies gilt nur linear für Patient mit Astma\\n- Wir wissen, unter Beachtung der Bevölkerungsdichte, dass die Impfquote in den verschiedenen Bundesländern sehr ähnlich ist.\\n- Unter Beachtung der Bevölkerungsdichte, nimmt die Impfquote linear von 7,8% auf 4,3% ab. Dabei sind die Bundesländer absteigend wie folgt gerankt: Nordrhein-Westfahlen, Niedersachsen, Hessen, Baden-Württemberg, Bayern, Bremen, Sachsen-Anhalt, Schleswig-Holstein, Rheinland-Pfalz, Thüringen, Hamburg, Brandenburg, Berlin, Mecklenburg-Vorpommern, Sachsen, Saarland.\\n'"
      ]
     },
     "execution_count": 55,
     "metadata": {},
     "output_type": "execute_result"
    }
   ],
   "source": [
    "generate_prompt(\"NRW\", \"2022\", \"Januar\", \"1000\", \"0.5\")"
   ]
  },
  {
   "cell_type": "code",
   "execution_count": 56,
   "id": "b632a384962916ed",
   "metadata": {
    "ExecuteTime": {
     "end_time": "2025-03-07T22:36:16.400230Z",
     "start_time": "2025-03-07T22:36:16.397386Z"
    }
   },
   "outputs": [],
   "source": [
    "cache = Cache(columns=[\n",
    "    \"bundesland\", \"jahr\", \"monat\", \"fallzahlen\", \"infektionsrate\", \"prompt\", \"output\", \"parsed_value\"\n",
    "])"
   ]
  },
  {
   "cell_type": "code",
   "execution_count": 57,
   "id": "b3351a645d63cbd7",
   "metadata": {
    "ExecuteTime": {
     "end_time": "2025-03-07T22:36:16.438812Z",
     "start_time": "2025-03-07T22:36:16.425699Z"
    }
   },
   "outputs": [
    {
     "data": {
      "text/html": [
       "<div>\n",
       "<style scoped>\n",
       "    .dataframe tbody tr th:only-of-type {\n",
       "        vertical-align: middle;\n",
       "    }\n",
       "\n",
       "    .dataframe tbody tr th {\n",
       "        vertical-align: top;\n",
       "    }\n",
       "\n",
       "    .dataframe thead th {\n",
       "        text-align: right;\n",
       "    }\n",
       "</style>\n",
       "<table border=\"1\" class=\"dataframe\">\n",
       "  <thead>\n",
       "    <tr style=\"text-align: right;\">\n",
       "      <th></th>\n",
       "      <th>specialization</th>\n",
       "      <th>Year</th>\n",
       "      <th>CalendarWeek</th>\n",
       "      <th>absolute</th>\n",
       "      <th>extrapolated</th>\n",
       "      <th>Region</th>\n",
       "      <th>InfluenzaCases</th>\n",
       "      <th>Population</th>\n",
       "      <th>InfluenzaCasesPerCapita</th>\n",
       "      <th>VaccinationsPerCapita</th>\n",
       "    </tr>\n",
       "  </thead>\n",
       "  <tbody>\n",
       "    <tr>\n",
       "      <th>0</th>\n",
       "      <td>1</td>\n",
       "      <td>2024</td>\n",
       "      <td>31</td>\n",
       "      <td>1</td>\n",
       "      <td>44</td>\n",
       "      <td>Baden-Württemberg</td>\n",
       "      <td>16</td>\n",
       "      <td>11230740</td>\n",
       "      <td>0.000001</td>\n",
       "      <td>0.000004</td>\n",
       "    </tr>\n",
       "    <tr>\n",
       "      <th>1</th>\n",
       "      <td>1</td>\n",
       "      <td>2024</td>\n",
       "      <td>32</td>\n",
       "      <td>4</td>\n",
       "      <td>180</td>\n",
       "      <td>Baden-Württemberg</td>\n",
       "      <td>13</td>\n",
       "      <td>11230740</td>\n",
       "      <td>0.000001</td>\n",
       "      <td>0.000016</td>\n",
       "    </tr>\n",
       "    <tr>\n",
       "      <th>2</th>\n",
       "      <td>1</td>\n",
       "      <td>2024</td>\n",
       "      <td>33</td>\n",
       "      <td>3</td>\n",
       "      <td>135</td>\n",
       "      <td>Baden-Württemberg</td>\n",
       "      <td>17</td>\n",
       "      <td>11230740</td>\n",
       "      <td>0.000002</td>\n",
       "      <td>0.000012</td>\n",
       "    </tr>\n",
       "    <tr>\n",
       "      <th>3</th>\n",
       "      <td>1</td>\n",
       "      <td>2024</td>\n",
       "      <td>36</td>\n",
       "      <td>1</td>\n",
       "      <td>45</td>\n",
       "      <td>Baden-Württemberg</td>\n",
       "      <td>19</td>\n",
       "      <td>11230740</td>\n",
       "      <td>0.000002</td>\n",
       "      <td>0.000004</td>\n",
       "    </tr>\n",
       "    <tr>\n",
       "      <th>4</th>\n",
       "      <td>1</td>\n",
       "      <td>2024</td>\n",
       "      <td>37</td>\n",
       "      <td>66</td>\n",
       "      <td>2952</td>\n",
       "      <td>Baden-Württemberg</td>\n",
       "      <td>19</td>\n",
       "      <td>11230740</td>\n",
       "      <td>0.000002</td>\n",
       "      <td>0.000263</td>\n",
       "    </tr>\n",
       "    <tr>\n",
       "      <th>...</th>\n",
       "      <td>...</td>\n",
       "      <td>...</td>\n",
       "      <td>...</td>\n",
       "      <td>...</td>\n",
       "      <td>...</td>\n",
       "      <td>...</td>\n",
       "      <td>...</td>\n",
       "      <td>...</td>\n",
       "      <td>...</td>\n",
       "      <td>...</td>\n",
       "    </tr>\n",
       "    <tr>\n",
       "      <th>916</th>\n",
       "      <td>3</td>\n",
       "      <td>2025</td>\n",
       "      <td>1</td>\n",
       "      <td>23</td>\n",
       "      <td>1104</td>\n",
       "      <td>Thüringen</td>\n",
       "      <td>139</td>\n",
       "      <td>2114870</td>\n",
       "      <td>0.000066</td>\n",
       "      <td>0.000522</td>\n",
       "    </tr>\n",
       "    <tr>\n",
       "      <th>917</th>\n",
       "      <td>3</td>\n",
       "      <td>2025</td>\n",
       "      <td>2</td>\n",
       "      <td>55</td>\n",
       "      <td>2857</td>\n",
       "      <td>Thüringen</td>\n",
       "      <td>486</td>\n",
       "      <td>2114870</td>\n",
       "      <td>0.000230</td>\n",
       "      <td>0.001351</td>\n",
       "    </tr>\n",
       "    <tr>\n",
       "      <th>918</th>\n",
       "      <td>3</td>\n",
       "      <td>2025</td>\n",
       "      <td>3</td>\n",
       "      <td>41</td>\n",
       "      <td>2132</td>\n",
       "      <td>Thüringen</td>\n",
       "      <td>871</td>\n",
       "      <td>2114870</td>\n",
       "      <td>0.000412</td>\n",
       "      <td>0.001008</td>\n",
       "    </tr>\n",
       "    <tr>\n",
       "      <th>919</th>\n",
       "      <td>3</td>\n",
       "      <td>2025</td>\n",
       "      <td>4</td>\n",
       "      <td>26</td>\n",
       "      <td>1352</td>\n",
       "      <td>Thüringen</td>\n",
       "      <td>1893</td>\n",
       "      <td>2114870</td>\n",
       "      <td>0.000895</td>\n",
       "      <td>0.000639</td>\n",
       "    </tr>\n",
       "    <tr>\n",
       "      <th>920</th>\n",
       "      <td>3</td>\n",
       "      <td>2025</td>\n",
       "      <td>5</td>\n",
       "      <td>27</td>\n",
       "      <td>1404</td>\n",
       "      <td>Thüringen</td>\n",
       "      <td>2809</td>\n",
       "      <td>2114870</td>\n",
       "      <td>0.001328</td>\n",
       "      <td>0.000664</td>\n",
       "    </tr>\n",
       "  </tbody>\n",
       "</table>\n",
       "<p>921 rows × 10 columns</p>\n",
       "</div>"
      ],
      "text/plain": [
       "     specialization  Year  CalendarWeek  absolute  extrapolated  \\\n",
       "0                 1  2024            31         1            44   \n",
       "1                 1  2024            32         4           180   \n",
       "2                 1  2024            33         3           135   \n",
       "3                 1  2024            36         1            45   \n",
       "4                 1  2024            37        66          2952   \n",
       "..              ...   ...           ...       ...           ...   \n",
       "916               3  2025             1        23          1104   \n",
       "917               3  2025             2        55          2857   \n",
       "918               3  2025             3        41          2132   \n",
       "919               3  2025             4        26          1352   \n",
       "920               3  2025             5        27          1404   \n",
       "\n",
       "                Region  InfluenzaCases  Population  InfluenzaCasesPerCapita  \\\n",
       "0    Baden-Württemberg              16    11230740                 0.000001   \n",
       "1    Baden-Württemberg              13    11230740                 0.000001   \n",
       "2    Baden-Württemberg              17    11230740                 0.000002   \n",
       "3    Baden-Württemberg              19    11230740                 0.000002   \n",
       "4    Baden-Württemberg              19    11230740                 0.000002   \n",
       "..                 ...             ...         ...                      ...   \n",
       "916          Thüringen             139     2114870                 0.000066   \n",
       "917          Thüringen             486     2114870                 0.000230   \n",
       "918          Thüringen             871     2114870                 0.000412   \n",
       "919          Thüringen            1893     2114870                 0.000895   \n",
       "920          Thüringen            2809     2114870                 0.001328   \n",
       "\n",
       "     VaccinationsPerCapita  \n",
       "0                 0.000004  \n",
       "1                 0.000016  \n",
       "2                 0.000012  \n",
       "3                 0.000004  \n",
       "4                 0.000263  \n",
       "..                     ...  \n",
       "916               0.000522  \n",
       "917               0.001351  \n",
       "918               0.001008  \n",
       "919               0.000639  \n",
       "920               0.000664  \n",
       "\n",
       "[921 rows x 10 columns]"
      ]
     },
     "execution_count": 57,
     "metadata": {},
     "output_type": "execute_result"
    }
   ],
   "source": [
    "df = pd.read_csv(\"merged.csv\", index_col=0, header=0)\n",
    "df"
   ]
  },
  {
   "cell_type": "code",
   "execution_count": 58,
   "id": "e5c8e93d4edf2a49",
   "metadata": {
    "ExecuteTime": {
     "end_time": "2025-03-07T22:36:16.481489Z",
     "start_time": "2025-03-07T22:36:16.475741Z"
    }
   },
   "outputs": [],
   "source": [
    "df['Date'] = pd.to_datetime(df['Year'].astype(str) + df['CalendarWeek'].astype(str) + '1', format='%Y%W%w')\n",
    "df['Month'] = df['Date'].dt.month\n",
    "df = df.drop(columns=['Date'])"
   ]
  },
  {
   "cell_type": "code",
   "execution_count": 59,
   "id": "b72441784cf3cad6",
   "metadata": {
    "ExecuteTime": {
     "end_time": "2025-03-07T22:36:16.517624Z",
     "start_time": "2025-03-07T22:36:16.511709Z"
    }
   },
   "outputs": [],
   "source": [
    "dff = df.groupby(['Year', 'Month', 'Region']).sum().reset_index()"
   ]
  },
  {
   "cell_type": "code",
   "id": "4e41fdcffd394ba9",
   "metadata": {
    "ExecuteTime": {
     "end_time": "2025-03-07T22:40:40.913425Z",
     "start_time": "2025-03-07T22:40:40.905146Z"
    }
   },
   "source": [
    "def send_row_to_model(row):\n",
    "    previous_rate = cache.get_from_cache(row['Region'], row['Year'], row['Month'] - 1)\n",
    "    if previous_rate is None:\n",
    "        previous_rate = 0\n",
    "\n",
    "    prompt = generate_prompt(row['Region'], row['Year'], row['Month'], row['Cases'], row['InfluenzaCasesPerCapita'], previous_rate)\n",
    "    cache_list = [row['Region'], row['Year'], row['Month'], row['Cases'], row['InfluenzaCasesPerCapita'], prompt]\n",
    "\n",
    "    model_output = lm_emulator(prompt)\n",
    "    cache_list.append(model_output)\n",
    "\n",
    "    parsed_value = parse_lm_output(model_output)\n",
    "    cache_list.append(parsed_value)\n",
    "\n",
    "    cache.add_to_cache(*cache_list)\n",
    "    return parsed_value"
   ],
   "outputs": [],
   "execution_count": 68
  },
  {
   "cell_type": "code",
   "id": "39948565c947eab7",
   "metadata": {
    "ExecuteTime": {
     "end_time": "2025-03-07T22:41:35.752734Z",
     "start_time": "2025-03-07T22:40:44.170161Z"
    }
   },
   "source": [
    "send_row_to_model(dff.iloc[0])"
   ],
   "outputs": [
    {
     "ename": "KeyboardInterrupt",
     "evalue": "",
     "output_type": "error",
     "traceback": [
      "\u001B[31m---------------------------------------------------------------------------\u001B[39m",
      "\u001B[31mKeyboardInterrupt\u001B[39m                         Traceback (most recent call last)",
      "\u001B[36mFile \u001B[39m\u001B[32m~\\AppData\\Local\\Temp\\ipykernel_51720\\3063620927.py:1\u001B[39m\n\u001B[32m----> \u001B[39m\u001B[32m1\u001B[39m \u001B[43msend_row_to_model\u001B[49m\u001B[43m(\u001B[49m\u001B[43mdff\u001B[49m\u001B[43m.\u001B[49m\u001B[43miloc\u001B[49m\u001B[43m[\u001B[49m\u001B[32;43m0\u001B[39;49m\u001B[43m]\u001B[49m\u001B[43m)\u001B[49m\n",
      "\u001B[36mFile \u001B[39m\u001B[32m~\\AppData\\Local\\Temp\\ipykernel_51720\\424944920.py:2\u001B[39m, in \u001B[36msend_row_to_model\u001B[39m\u001B[34m(row)\u001B[39m\n\u001B[32m      1\u001B[39m \u001B[38;5;28;01mdef\u001B[39;00m\u001B[38;5;250m \u001B[39m\u001B[34msend_row_to_model\u001B[39m(row):\n\u001B[32m----> \u001B[39m\u001B[32m2\u001B[39m     previous_rate = \u001B[43mcache\u001B[49m.get_from_cache(row[\u001B[33m'\u001B[39m\u001B[33mRegion\u001B[39m\u001B[33m'\u001B[39m], row[\u001B[33m'\u001B[39m\u001B[33mYear\u001B[39m\u001B[33m'\u001B[39m], row[\u001B[33m'\u001B[39m\u001B[33mMonth\u001B[39m\u001B[33m'\u001B[39m] - \u001B[32m1\u001B[39m)\n\u001B[32m      3\u001B[39m     \u001B[38;5;28;01mif\u001B[39;00m previous_rate \u001B[38;5;129;01mis\u001B[39;00m \u001B[38;5;28;01mNone\u001B[39;00m:\n\u001B[32m      4\u001B[39m         previous_rate = \u001B[32m0\u001B[39m\n",
      "\u001B[36mFile \u001B[39m\u001B[32mC:\\Program Files (x86)\\JetBrains\\PyCharm 2024.3.2\\plugins\\python-ce\\helpers\\pydev\\_pydevd_bundle\\pydevd_frame.py:755\u001B[39m, in \u001B[36mPyDBFrame.trace_dispatch\u001B[39m\u001B[34m(self, frame, event, arg)\u001B[39m\n\u001B[32m    753\u001B[39m \u001B[38;5;66;03m# if thread has a suspend flag, we suspend with a busy wait\u001B[39;00m\n\u001B[32m    754\u001B[39m \u001B[38;5;28;01mif\u001B[39;00m info.pydev_state == STATE_SUSPEND:\n\u001B[32m--> \u001B[39m\u001B[32m755\u001B[39m     \u001B[38;5;28;43mself\u001B[39;49m\u001B[43m.\u001B[49m\u001B[43mdo_wait_suspend\u001B[49m\u001B[43m(\u001B[49m\u001B[43mthread\u001B[49m\u001B[43m,\u001B[49m\u001B[43m \u001B[49m\u001B[43mframe\u001B[49m\u001B[43m,\u001B[49m\u001B[43m \u001B[49m\u001B[43mevent\u001B[49m\u001B[43m,\u001B[49m\u001B[43m \u001B[49m\u001B[43marg\u001B[49m\u001B[43m)\u001B[49m\n\u001B[32m    756\u001B[39m     \u001B[38;5;66;03m# No need to reset frame.f_trace to keep the same trace function.\u001B[39;00m\n\u001B[32m    757\u001B[39m     \u001B[38;5;28;01mreturn\u001B[39;00m \u001B[38;5;28mself\u001B[39m.trace_dispatch\n",
      "\u001B[36mFile \u001B[39m\u001B[32mC:\\Program Files (x86)\\JetBrains\\PyCharm 2024.3.2\\plugins\\python-ce\\helpers\\pydev\\_pydevd_bundle\\pydevd_frame.py:412\u001B[39m, in \u001B[36mPyDBFrame.do_wait_suspend\u001B[39m\u001B[34m(self, *args, **kwargs)\u001B[39m\n\u001B[32m    411\u001B[39m \u001B[38;5;28;01mdef\u001B[39;00m\u001B[38;5;250m \u001B[39m\u001B[34mdo_wait_suspend\u001B[39m(\u001B[38;5;28mself\u001B[39m, *args, **kwargs):\n\u001B[32m--> \u001B[39m\u001B[32m412\u001B[39m     \u001B[38;5;28;43mself\u001B[39;49m\u001B[43m.\u001B[49m\u001B[43m_args\u001B[49m\u001B[43m[\u001B[49m\u001B[32;43m0\u001B[39;49m\u001B[43m]\u001B[49m\u001B[43m.\u001B[49m\u001B[43mdo_wait_suspend\u001B[49m\u001B[43m(\u001B[49m\u001B[43m*\u001B[49m\u001B[43margs\u001B[49m\u001B[43m,\u001B[49m\u001B[43m \u001B[49m\u001B[43m*\u001B[49m\u001B[43m*\u001B[49m\u001B[43mkwargs\u001B[49m\u001B[43m)\u001B[49m\n",
      "\u001B[36mFile \u001B[39m\u001B[32mC:\\Program Files (x86)\\JetBrains\\PyCharm 2024.3.2\\plugins\\python-ce\\helpers\\pydev\\pydevd.py:1220\u001B[39m, in \u001B[36mPyDB.do_wait_suspend\u001B[39m\u001B[34m(self, thread, frame, event, arg, send_suspend_message, is_unhandled_exception)\u001B[39m\n\u001B[32m   1217\u001B[39m         from_this_thread.append(frame_id)\n\u001B[32m   1219\u001B[39m \u001B[38;5;28;01mwith\u001B[39;00m \u001B[38;5;28mself\u001B[39m._threads_suspended_single_notification.notify_thread_suspended(thread_id, stop_reason):\n\u001B[32m-> \u001B[39m\u001B[32m1220\u001B[39m     \u001B[38;5;28;43mself\u001B[39;49m\u001B[43m.\u001B[49m\u001B[43m_do_wait_suspend\u001B[49m\u001B[43m(\u001B[49m\u001B[43mthread\u001B[49m\u001B[43m,\u001B[49m\u001B[43m \u001B[49m\u001B[43mframe\u001B[49m\u001B[43m,\u001B[49m\u001B[43m \u001B[49m\u001B[43mevent\u001B[49m\u001B[43m,\u001B[49m\u001B[43m \u001B[49m\u001B[43marg\u001B[49m\u001B[43m,\u001B[49m\u001B[43m \u001B[49m\u001B[43msuspend_type\u001B[49m\u001B[43m,\u001B[49m\u001B[43m \u001B[49m\u001B[43mfrom_this_thread\u001B[49m\u001B[43m)\u001B[49m\n",
      "\u001B[36mFile \u001B[39m\u001B[32mC:\\Program Files (x86)\\JetBrains\\PyCharm 2024.3.2\\plugins\\python-ce\\helpers\\pydev\\pydevd.py:1235\u001B[39m, in \u001B[36mPyDB._do_wait_suspend\u001B[39m\u001B[34m(self, thread, frame, event, arg, suspend_type, from_this_thread)\u001B[39m\n\u001B[32m   1232\u001B[39m             \u001B[38;5;28mself\u001B[39m._call_mpl_hook()\n\u001B[32m   1234\u001B[39m         \u001B[38;5;28mself\u001B[39m.process_internal_commands()\n\u001B[32m-> \u001B[39m\u001B[32m1235\u001B[39m         \u001B[43mtime\u001B[49m\u001B[43m.\u001B[49m\u001B[43msleep\u001B[49m\u001B[43m(\u001B[49m\u001B[32;43m0.01\u001B[39;49m\u001B[43m)\u001B[49m\n\u001B[32m   1237\u001B[39m \u001B[38;5;28mself\u001B[39m.cancel_async_evaluation(get_current_thread_id(thread), \u001B[38;5;28mstr\u001B[39m(\u001B[38;5;28mid\u001B[39m(frame)))\n\u001B[32m   1239\u001B[39m \u001B[38;5;66;03m# process any stepping instructions\u001B[39;00m\n",
      "\u001B[31mKeyboardInterrupt\u001B[39m: "
     ]
    }
   ],
   "execution_count": 69
  },
  {
   "cell_type": "code",
   "execution_count": 61,
   "id": "a26a4883b14f026",
   "metadata": {
    "ExecuteTime": {
     "end_time": "2025-03-07T22:36:17.003175Z",
     "start_time": "2025-03-07T22:36:16.613229Z"
    }
   },
   "outputs": [
    {
     "ename": "TypeError",
     "evalue": "'int' object is not subscriptable",
     "output_type": "error",
     "traceback": [
      "\u001B[31m---------------------------------------------------------------------------\u001B[39m",
      "\u001B[31mTypeError\u001B[39m                                 Traceback (most recent call last)",
      "\u001B[36mCell\u001B[39m\u001B[36m \u001B[39m\u001B[32mIn[61]\u001B[39m\u001B[32m, line 1\u001B[39m\n\u001B[32m----> \u001B[39m\u001B[32m1\u001B[39m dff[\u001B[33m'\u001B[39m\u001B[33mpredicted_value\u001B[39m\u001B[33m'\u001B[39m] = \u001B[43mdf\u001B[49m\u001B[43m.\u001B[49m\u001B[43mmap\u001B[49m\u001B[43m(\u001B[49m\u001B[38;5;28;43;01mlambda\u001B[39;49;00m\u001B[43m \u001B[49m\u001B[43mx\u001B[49m\u001B[43m:\u001B[49m\u001B[43m \u001B[49m\u001B[43msend_row_to_model\u001B[49m\u001B[43m(\u001B[49m\u001B[43mx\u001B[49m\u001B[43m)\u001B[49m\u001B[43m)\u001B[49m\n",
      "\u001B[36mFile \u001B[39m\u001B[32mD:\\no_backup\\python_environments\\cgm_datathon\\Lib\\site-packages\\pandas\\core\\frame.py:10468\u001B[39m, in \u001B[36mDataFrame.map\u001B[39m\u001B[34m(self, func, na_action, **kwargs)\u001B[39m\n\u001B[32m  10465\u001B[39m \u001B[38;5;28;01mdef\u001B[39;00m\u001B[38;5;250m \u001B[39m\u001B[34minfer\u001B[39m(x):\n\u001B[32m  10466\u001B[39m     \u001B[38;5;28;01mreturn\u001B[39;00m x._map_values(func, na_action=na_action)\n\u001B[32m> \u001B[39m\u001B[32m10468\u001B[39m \u001B[38;5;28;01mreturn\u001B[39;00m \u001B[38;5;28;43mself\u001B[39;49m\u001B[43m.\u001B[49m\u001B[43mapply\u001B[49m\u001B[43m(\u001B[49m\u001B[43minfer\u001B[49m\u001B[43m)\u001B[49m.__finalize__(\u001B[38;5;28mself\u001B[39m, \u001B[33m\"\u001B[39m\u001B[33mmap\u001B[39m\u001B[33m\"\u001B[39m)\n",
      "\u001B[36mFile \u001B[39m\u001B[32mD:\\no_backup\\python_environments\\cgm_datathon\\Lib\\site-packages\\pandas\\core\\frame.py:10374\u001B[39m, in \u001B[36mDataFrame.apply\u001B[39m\u001B[34m(self, func, axis, raw, result_type, args, by_row, engine, engine_kwargs, **kwargs)\u001B[39m\n\u001B[32m  10360\u001B[39m \u001B[38;5;28;01mfrom\u001B[39;00m\u001B[38;5;250m \u001B[39m\u001B[34;01mpandas\u001B[39;00m\u001B[34;01m.\u001B[39;00m\u001B[34;01mcore\u001B[39;00m\u001B[34;01m.\u001B[39;00m\u001B[34;01mapply\u001B[39;00m\u001B[38;5;250m \u001B[39m\u001B[38;5;28;01mimport\u001B[39;00m frame_apply\n\u001B[32m  10362\u001B[39m op = frame_apply(\n\u001B[32m  10363\u001B[39m     \u001B[38;5;28mself\u001B[39m,\n\u001B[32m  10364\u001B[39m     func=func,\n\u001B[32m   (...)\u001B[39m\u001B[32m  10372\u001B[39m     kwargs=kwargs,\n\u001B[32m  10373\u001B[39m )\n\u001B[32m> \u001B[39m\u001B[32m10374\u001B[39m \u001B[38;5;28;01mreturn\u001B[39;00m \u001B[43mop\u001B[49m\u001B[43m.\u001B[49m\u001B[43mapply\u001B[49m\u001B[43m(\u001B[49m\u001B[43m)\u001B[49m.__finalize__(\u001B[38;5;28mself\u001B[39m, method=\u001B[33m\"\u001B[39m\u001B[33mapply\u001B[39m\u001B[33m\"\u001B[39m)\n",
      "\u001B[36mFile \u001B[39m\u001B[32mD:\\no_backup\\python_environments\\cgm_datathon\\Lib\\site-packages\\pandas\\core\\apply.py:916\u001B[39m, in \u001B[36mFrameApply.apply\u001B[39m\u001B[34m(self)\u001B[39m\n\u001B[32m    913\u001B[39m \u001B[38;5;28;01melif\u001B[39;00m \u001B[38;5;28mself\u001B[39m.raw:\n\u001B[32m    914\u001B[39m     \u001B[38;5;28;01mreturn\u001B[39;00m \u001B[38;5;28mself\u001B[39m.apply_raw(engine=\u001B[38;5;28mself\u001B[39m.engine, engine_kwargs=\u001B[38;5;28mself\u001B[39m.engine_kwargs)\n\u001B[32m--> \u001B[39m\u001B[32m916\u001B[39m \u001B[38;5;28;01mreturn\u001B[39;00m \u001B[38;5;28;43mself\u001B[39;49m\u001B[43m.\u001B[49m\u001B[43mapply_standard\u001B[49m\u001B[43m(\u001B[49m\u001B[43m)\u001B[49m\n",
      "\u001B[36mFile \u001B[39m\u001B[32mD:\\no_backup\\python_environments\\cgm_datathon\\Lib\\site-packages\\pandas\\core\\apply.py:1063\u001B[39m, in \u001B[36mFrameApply.apply_standard\u001B[39m\u001B[34m(self)\u001B[39m\n\u001B[32m   1061\u001B[39m \u001B[38;5;28;01mdef\u001B[39;00m\u001B[38;5;250m \u001B[39m\u001B[34mapply_standard\u001B[39m(\u001B[38;5;28mself\u001B[39m):\n\u001B[32m   1062\u001B[39m     \u001B[38;5;28;01mif\u001B[39;00m \u001B[38;5;28mself\u001B[39m.engine == \u001B[33m\"\u001B[39m\u001B[33mpython\u001B[39m\u001B[33m\"\u001B[39m:\n\u001B[32m-> \u001B[39m\u001B[32m1063\u001B[39m         results, res_index = \u001B[38;5;28;43mself\u001B[39;49m\u001B[43m.\u001B[49m\u001B[43mapply_series_generator\u001B[49m\u001B[43m(\u001B[49m\u001B[43m)\u001B[49m\n\u001B[32m   1064\u001B[39m     \u001B[38;5;28;01melse\u001B[39;00m:\n\u001B[32m   1065\u001B[39m         results, res_index = \u001B[38;5;28mself\u001B[39m.apply_series_numba()\n",
      "\u001B[36mFile \u001B[39m\u001B[32mD:\\no_backup\\python_environments\\cgm_datathon\\Lib\\site-packages\\pandas\\core\\apply.py:1081\u001B[39m, in \u001B[36mFrameApply.apply_series_generator\u001B[39m\u001B[34m(self)\u001B[39m\n\u001B[32m   1078\u001B[39m \u001B[38;5;28;01mwith\u001B[39;00m option_context(\u001B[33m\"\u001B[39m\u001B[33mmode.chained_assignment\u001B[39m\u001B[33m\"\u001B[39m, \u001B[38;5;28;01mNone\u001B[39;00m):\n\u001B[32m   1079\u001B[39m     \u001B[38;5;28;01mfor\u001B[39;00m i, v \u001B[38;5;129;01min\u001B[39;00m \u001B[38;5;28menumerate\u001B[39m(series_gen):\n\u001B[32m   1080\u001B[39m         \u001B[38;5;66;03m# ignore SettingWithCopy here in case the user mutates\u001B[39;00m\n\u001B[32m-> \u001B[39m\u001B[32m1081\u001B[39m         results[i] = \u001B[38;5;28;43mself\u001B[39;49m\u001B[43m.\u001B[49m\u001B[43mfunc\u001B[49m\u001B[43m(\u001B[49m\u001B[43mv\u001B[49m\u001B[43m,\u001B[49m\u001B[43m \u001B[49m\u001B[43m*\u001B[49m\u001B[38;5;28;43mself\u001B[39;49m\u001B[43m.\u001B[49m\u001B[43margs\u001B[49m\u001B[43m,\u001B[49m\u001B[43m \u001B[49m\u001B[43m*\u001B[49m\u001B[43m*\u001B[49m\u001B[38;5;28;43mself\u001B[39;49m\u001B[43m.\u001B[49m\u001B[43mkwargs\u001B[49m\u001B[43m)\u001B[49m\n\u001B[32m   1082\u001B[39m         \u001B[38;5;28;01mif\u001B[39;00m \u001B[38;5;28misinstance\u001B[39m(results[i], ABCSeries):\n\u001B[32m   1083\u001B[39m             \u001B[38;5;66;03m# If we have a view on v, we need to make a copy because\u001B[39;00m\n\u001B[32m   1084\u001B[39m             \u001B[38;5;66;03m#  series_generator will swap out the underlying data\u001B[39;00m\n\u001B[32m   1085\u001B[39m             results[i] = results[i].copy(deep=\u001B[38;5;28;01mFalse\u001B[39;00m)\n",
      "\u001B[36mFile \u001B[39m\u001B[32mD:\\no_backup\\python_environments\\cgm_datathon\\Lib\\site-packages\\pandas\\core\\frame.py:10466\u001B[39m, in \u001B[36mDataFrame.map.<locals>.infer\u001B[39m\u001B[34m(x)\u001B[39m\n\u001B[32m  10465\u001B[39m \u001B[38;5;28;01mdef\u001B[39;00m\u001B[38;5;250m \u001B[39m\u001B[34minfer\u001B[39m(x):\n\u001B[32m> \u001B[39m\u001B[32m10466\u001B[39m     \u001B[38;5;28;01mreturn\u001B[39;00m \u001B[43mx\u001B[49m\u001B[43m.\u001B[49m\u001B[43m_map_values\u001B[49m\u001B[43m(\u001B[49m\u001B[43mfunc\u001B[49m\u001B[43m,\u001B[49m\u001B[43m \u001B[49m\u001B[43mna_action\u001B[49m\u001B[43m=\u001B[49m\u001B[43mna_action\u001B[49m\u001B[43m)\u001B[49m\n",
      "\u001B[36mFile \u001B[39m\u001B[32mD:\\no_backup\\python_environments\\cgm_datathon\\Lib\\site-packages\\pandas\\core\\base.py:921\u001B[39m, in \u001B[36mIndexOpsMixin._map_values\u001B[39m\u001B[34m(self, mapper, na_action, convert)\u001B[39m\n\u001B[32m    918\u001B[39m \u001B[38;5;28;01mif\u001B[39;00m \u001B[38;5;28misinstance\u001B[39m(arr, ExtensionArray):\n\u001B[32m    919\u001B[39m     \u001B[38;5;28;01mreturn\u001B[39;00m arr.map(mapper, na_action=na_action)\n\u001B[32m--> \u001B[39m\u001B[32m921\u001B[39m \u001B[38;5;28;01mreturn\u001B[39;00m \u001B[43malgorithms\u001B[49m\u001B[43m.\u001B[49m\u001B[43mmap_array\u001B[49m\u001B[43m(\u001B[49m\u001B[43marr\u001B[49m\u001B[43m,\u001B[49m\u001B[43m \u001B[49m\u001B[43mmapper\u001B[49m\u001B[43m,\u001B[49m\u001B[43m \u001B[49m\u001B[43mna_action\u001B[49m\u001B[43m=\u001B[49m\u001B[43mna_action\u001B[49m\u001B[43m,\u001B[49m\u001B[43m \u001B[49m\u001B[43mconvert\u001B[49m\u001B[43m=\u001B[49m\u001B[43mconvert\u001B[49m\u001B[43m)\u001B[49m\n",
      "\u001B[36mFile \u001B[39m\u001B[32mD:\\no_backup\\python_environments\\cgm_datathon\\Lib\\site-packages\\pandas\\core\\algorithms.py:1743\u001B[39m, in \u001B[36mmap_array\u001B[39m\u001B[34m(arr, mapper, na_action, convert)\u001B[39m\n\u001B[32m   1741\u001B[39m values = arr.astype(\u001B[38;5;28mobject\u001B[39m, copy=\u001B[38;5;28;01mFalse\u001B[39;00m)\n\u001B[32m   1742\u001B[39m \u001B[38;5;28;01mif\u001B[39;00m na_action \u001B[38;5;129;01mis\u001B[39;00m \u001B[38;5;28;01mNone\u001B[39;00m:\n\u001B[32m-> \u001B[39m\u001B[32m1743\u001B[39m     \u001B[38;5;28;01mreturn\u001B[39;00m \u001B[43mlib\u001B[49m\u001B[43m.\u001B[49m\u001B[43mmap_infer\u001B[49m\u001B[43m(\u001B[49m\u001B[43mvalues\u001B[49m\u001B[43m,\u001B[49m\u001B[43m \u001B[49m\u001B[43mmapper\u001B[49m\u001B[43m,\u001B[49m\u001B[43m \u001B[49m\u001B[43mconvert\u001B[49m\u001B[43m=\u001B[49m\u001B[43mconvert\u001B[49m\u001B[43m)\u001B[49m\n\u001B[32m   1744\u001B[39m \u001B[38;5;28;01melse\u001B[39;00m:\n\u001B[32m   1745\u001B[39m     \u001B[38;5;28;01mreturn\u001B[39;00m lib.map_infer_mask(\n\u001B[32m   1746\u001B[39m         values, mapper, mask=isna(values).view(np.uint8), convert=convert\n\u001B[32m   1747\u001B[39m     )\n",
      "\u001B[36mFile \u001B[39m\u001B[32mlib.pyx:2972\u001B[39m, in \u001B[36mpandas._libs.lib.map_infer\u001B[39m\u001B[34m()\u001B[39m\n",
      "\u001B[36mCell\u001B[39m\u001B[36m \u001B[39m\u001B[32mIn[61]\u001B[39m\u001B[32m, line 1\u001B[39m, in \u001B[36m<lambda>\u001B[39m\u001B[34m(x)\u001B[39m\n\u001B[32m----> \u001B[39m\u001B[32m1\u001B[39m dff[\u001B[33m'\u001B[39m\u001B[33mpredicted_value\u001B[39m\u001B[33m'\u001B[39m] = df.map(\u001B[38;5;28;01mlambda\u001B[39;00m x: \u001B[43msend_row_to_model\u001B[49m\u001B[43m(\u001B[49m\u001B[43mx\u001B[49m\u001B[43m)\u001B[49m)\n",
      "\u001B[36mCell\u001B[39m\u001B[36m \u001B[39m\u001B[32mIn[60]\u001B[39m\u001B[32m, line 2\u001B[39m, in \u001B[36msend_row_to_model\u001B[39m\u001B[34m(row)\u001B[39m\n\u001B[32m      1\u001B[39m \u001B[38;5;28;01mdef\u001B[39;00m\u001B[38;5;250m \u001B[39m\u001B[34msend_row_to_model\u001B[39m(row):\n\u001B[32m----> \u001B[39m\u001B[32m2\u001B[39m     previous_rate = cache.get_from_cache(\u001B[43mrow\u001B[49m\u001B[43m[\u001B[49m\u001B[33;43m'\u001B[39;49m\u001B[33;43mRegion\u001B[39;49m\u001B[33;43m'\u001B[39;49m\u001B[43m]\u001B[49m, row[\u001B[33m'\u001B[39m\u001B[33mYear\u001B[39m\u001B[33m'\u001B[39m], row[\u001B[33m'\u001B[39m\u001B[33mMonth\u001B[39m\u001B[33m'\u001B[39m] - \u001B[32m1\u001B[39m)\n\u001B[32m      3\u001B[39m     \u001B[38;5;28;01mif\u001B[39;00m previous_rate \u001B[38;5;129;01mis\u001B[39;00m \u001B[38;5;28;01mNone\u001B[39;00m:\n\u001B[32m      4\u001B[39m         previous_rate = \u001B[32m0\u001B[39m\n",
      "\u001B[31mTypeError\u001B[39m: 'int' object is not subscriptable"
     ]
    }
   ],
   "source": [
    "dff['predicted_value'] = df.map(lambda x: send_row_to_model(x))"
   ]
  }
 ],
 "metadata": {
  "kernelspec": {
   "display_name": "Python 3",
   "language": "python",
   "name": "python3"
  },
  "language_info": {
   "codemirror_mode": {
    "name": "ipython",
    "version": 2
   },
   "file_extension": ".py",
   "mimetype": "text/x-python",
   "name": "python",
   "nbconvert_exporter": "python",
   "pygments_lexer": "ipython2",
   "version": "2.7.6"
  }
 },
 "nbformat": 4,
 "nbformat_minor": 5
}
