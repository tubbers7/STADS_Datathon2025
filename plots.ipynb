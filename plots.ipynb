{
 "cells": [
  {
   "cell_type": "code",
   "id": "initial_id",
   "metadata": {
    "collapsed": true,
    "ExecuteTime": {
     "end_time": "2025-03-07T20:14:24.155175Z",
     "start_time": "2025-03-07T20:14:24.121969Z"
    }
   },
   "source": [
    "import pandas as pd\n",
    "\n",
    "dfr = pd.read_csv(\"20025-03-07_cgm-datathon-challenge-flu_riskgroupsv1.csv\", sep=\";\")"
   ],
   "outputs": [],
   "execution_count": 6
  },
  {
   "metadata": {
    "ExecuteTime": {
     "end_time": "2025-03-07T20:14:24.164375Z",
     "start_time": "2025-03-07T20:14:24.160845Z"
    }
   },
   "cell_type": "code",
   "source": "dfr.columns\n",
   "id": "324a30240e0cb6f7",
   "outputs": [
    {
     "data": {
      "text/plain": [
       "Index(['week', 'kvregion', 'region', 'specialization', 'gender', 'age_group',\n",
       "       'insurancecode', 'insurancetype', 'risk_groups', 'absolute',\n",
       "       'extrapolated'],\n",
       "      dtype='object')"
      ]
     },
     "execution_count": 7,
     "metadata": {},
     "output_type": "execute_result"
    }
   ],
   "execution_count": 7
  },
  {
   "metadata": {
    "ExecuteTime": {
     "end_time": "2025-03-07T20:52:33.391692Z",
     "start_time": "2025-03-07T20:52:33.382353Z"
    }
   },
   "cell_type": "code",
   "source": [
    "insurancecode_mapping = {\n",
    "    \"375\": \"Schutzimpfung (intramuskulär, subkutan)\", # GOÄ,\n",
    "    \"2\": \"Wiederholungsrezepten und/oder Überweisungen\", # GOÄ\n",
    "    \"1\": \"Beratung\", # GOÄ\n",
    "    \"377\": \"Zusatzinjektion bei Parallelimpfung\",\n",
    "    \"5\": \"Symptombezogene Untersuchung\",\n",
    "    \"3\": \"lange Beratung\",\n",
    "    \"7\": \"Vollständige körperliche Untersuchung eines Organsystems\",\n",
    "    \"250\" : \"Blutentnahme\",\n",
    "    \"89111\": \"Influenza (Virusgrippe) - Standardimpfung\", # www.kvn.de,\n",
    "    \"89112\": \"Influenza (Indikationsimpfung)\", # www.kvn.de,\n",
    "    \"89112Y\": \"Influenza (berufliche bzw. berufliche Reiseindikation)\",\n",
    "    \"89112Z\": \"Influenza (Satzungsimpfung) Pers. Bis 60 Jahre o sonst Ind.\",\n",
    "    \"89112T\": \"Influenza (Satzungsimpfung) Pers. unter 60 Jahre o sonst Ind.\",\n",
    "}\n",
    "# https://www.kvn.de/internet_media/Mitglieder/Abrechnung+und+Honorar/KVN_interne+GOP/Einzelimpfungen_Stand+11_11_2024-p-27643.pdf"
   ],
   "id": "735e0c17c377c715",
   "outputs": [],
   "execution_count": 11
  },
  {
   "metadata": {
    "ExecuteTime": {
     "end_time": "2025-03-07T20:53:02.483363Z",
     "start_time": "2025-03-07T20:53:02.471575Z"
    }
   },
   "cell_type": "code",
   "source": "dfr['insurancecode_text'] = dfr['insurancecode'].map(insurancecode_mapping).fillna(dfr['insurancecode'])",
   "id": "dca08281347c3f98",
   "outputs": [],
   "execution_count": 12
  },
  {
   "metadata": {
    "ExecuteTime": {
     "end_time": "2025-03-07T20:53:13.391429Z",
     "start_time": "2025-03-07T20:53:13.381480Z"
    }
   },
   "cell_type": "code",
   "source": "dfr['insurancecode_text'].value_counts()",
   "id": "d0826e375eea344c",
   "outputs": [
    {
     "data": {
      "text/plain": [
       "insurancecode_text\n",
       "Influenza (Virusgrippe) - Standardimpfung       12959\n",
       "Influenza (Indikationsimpfung)                   9973\n",
       "Schutzimpfung (intramuskulär, subkutan)          4830\n",
       "Wiederholungsrezepten und/oder Überweisungen     1456\n",
       "Beratung                                         1268\n",
       "                                                ...  \n",
       "351                                                 1\n",
       "24                                                  1\n",
       "04002                                               1\n",
       "K1                                                  1\n",
       "01435                                               1\n",
       "Name: count, Length: 363, dtype: int64"
      ]
     },
     "execution_count": 13,
     "metadata": {},
     "output_type": "execute_result"
    }
   ],
   "execution_count": 13
  },
  {
   "metadata": {
    "ExecuteTime": {
     "end_time": "2025-03-07T21:02:47.503939Z",
     "start_time": "2025-03-07T21:02:47.496034Z"
    }
   },
   "cell_type": "code",
   "source": "dfr['insurancecode'].value_counts().sort_values(ascending=False)",
   "id": "246c0f42c19e07a5",
   "outputs": [
    {
     "data": {
      "text/plain": [
       "               count\n",
       "insurancecode       \n",
       "89111          12959\n",
       "89112           9973\n",
       "375             4830\n",
       "2               1456\n",
       "1               1268\n",
       "...              ...\n",
       "351                1\n",
       "24                 1\n",
       "04002              1\n",
       "K1                 1\n",
       "01435              1\n",
       "\n",
       "[363 rows x 1 columns]"
      ],
      "text/html": [
       "<div>\n",
       "<style scoped>\n",
       "    .dataframe tbody tr th:only-of-type {\n",
       "        vertical-align: middle;\n",
       "    }\n",
       "\n",
       "    .dataframe tbody tr th {\n",
       "        vertical-align: top;\n",
       "    }\n",
       "\n",
       "    .dataframe thead th {\n",
       "        text-align: right;\n",
       "    }\n",
       "</style>\n",
       "<table border=\"1\" class=\"dataframe\">\n",
       "  <thead>\n",
       "    <tr style=\"text-align: right;\">\n",
       "      <th></th>\n",
       "      <th>count</th>\n",
       "    </tr>\n",
       "    <tr>\n",
       "      <th>insurancecode</th>\n",
       "      <th></th>\n",
       "    </tr>\n",
       "  </thead>\n",
       "  <tbody>\n",
       "    <tr>\n",
       "      <th>89111</th>\n",
       "      <td>12959</td>\n",
       "    </tr>\n",
       "    <tr>\n",
       "      <th>89112</th>\n",
       "      <td>9973</td>\n",
       "    </tr>\n",
       "    <tr>\n",
       "      <th>375</th>\n",
       "      <td>4830</td>\n",
       "    </tr>\n",
       "    <tr>\n",
       "      <th>2</th>\n",
       "      <td>1456</td>\n",
       "    </tr>\n",
       "    <tr>\n",
       "      <th>1</th>\n",
       "      <td>1268</td>\n",
       "    </tr>\n",
       "    <tr>\n",
       "      <th>...</th>\n",
       "      <td>...</td>\n",
       "    </tr>\n",
       "    <tr>\n",
       "      <th>351</th>\n",
       "      <td>1</td>\n",
       "    </tr>\n",
       "    <tr>\n",
       "      <th>24</th>\n",
       "      <td>1</td>\n",
       "    </tr>\n",
       "    <tr>\n",
       "      <th>04002</th>\n",
       "      <td>1</td>\n",
       "    </tr>\n",
       "    <tr>\n",
       "      <th>K1</th>\n",
       "      <td>1</td>\n",
       "    </tr>\n",
       "    <tr>\n",
       "      <th>01435</th>\n",
       "      <td>1</td>\n",
       "    </tr>\n",
       "  </tbody>\n",
       "</table>\n",
       "<p>363 rows × 1 columns</p>\n",
       "</div>"
      ]
     },
     "execution_count": 23,
     "metadata": {},
     "output_type": "execute_result"
    }
   ],
   "execution_count": 23
  }
 ],
 "metadata": {
  "kernelspec": {
   "display_name": "Python 3",
   "language": "python",
   "name": "python3"
  },
  "language_info": {
   "codemirror_mode": {
    "name": "ipython",
    "version": 2
   },
   "file_extension": ".py",
   "mimetype": "text/x-python",
   "name": "python",
   "nbconvert_exporter": "python",
   "pygments_lexer": "ipython2",
   "version": "2.7.6"
  }
 },
 "nbformat": 4,
 "nbformat_minor": 5
}
