{
 "cells": [
  {
   "cell_type": "markdown",
   "metadata": {},
   "source": [
    "## 1) Duplicate Detection and Aggregation via MAX"
   ]
  },
  {
   "cell_type": "code",
   "execution_count": 440,
   "metadata": {},
   "outputs": [],
   "source": [
    "# library imports\n",
    "import pandas as pd"
   ]
  },
  {
   "cell_type": "code",
   "execution_count": 441,
   "metadata": {},
   "outputs": [
    {
     "name": "stdout",
     "output_type": "stream",
     "text": [
      "The file consists of 35994 rows and 11 columns.\n"
     ]
    }
   ],
   "source": [
    "# read csv file\n",
    "df = pd.read_csv('source_data/20025-03-07_cgm-datathon-challenge-flu_riskgroupsv1.csv', sep=';')\n",
    "print('The file consists of', df.shape[0], 'rows and', df.shape[1], 'columns.')"
   ]
  },
  {
   "cell_type": "code",
   "execution_count": null,
   "metadata": {},
   "outputs": [],
   "source": [
    "# adapt NaN's in column risk_groups\n",
    "df['risk_groups'] = df['risk_groups'].fillna('None')\n",
    "# drop duplicates\n",
    "df = df.drop_duplicates()\n",
    "# df = df.drop_duplicates(['week','kvregion','region','specialization','gender','age_group','insurancecode','insurancetype','risk_groups', 'absolute', 'extrapolated'])\n",
    "# sort dataframe\n",
    "df = df.sort_values(by=['week','kvregion','region','specialization','gender','age_group','insurancecode','insurancetype','risk_groups']).reset_index(drop=True)"
   ]
  },
  {
   "cell_type": "code",
   "execution_count": null,
   "metadata": {},
   "outputs": [
    {
     "name": "stdout",
     "output_type": "stream",
     "text": [
      "There are 1639 duplicates in the dataset.\n",
      "Difference in row 752 is 1 for absolute and 25 for extrapolated.\n",
      "Difference in row 914 is 1 for absolute and 41 for extrapolated.\n",
      "Difference in row 930 is 1 for absolute and 32 for extrapolated.\n",
      "Difference in row 1362 is 1 for absolute and 20 for extrapolated.\n",
      "Difference in row 1702 is 1 for absolute and 39 for extrapolated.\n",
      "Difference in row 1838 is 1 for absolute and 50 for extrapolated.\n",
      "Difference in row 36 is -1 for absolute and -38 for extrapolated.\n",
      "Difference in row 98 is -3 for absolute and -96 for extrapolated.\n",
      "Difference in row 172 is -1 for absolute and -38 for extrapolated.\n",
      "Difference in row 178 is -1 for absolute and -42 for extrapolated.\n",
      "Difference in row 300 is -2 for absolute and -76 for extrapolated.\n",
      "Difference in row 346 is -1 for absolute and -33 for extrapolated.\n",
      "Difference in row 360 is -6 for absolute and -194 for extrapolated.\n",
      "Difference in row 442 is -1 for absolute and -25 for extrapolated.\n",
      "Difference in row 546 is -1 for absolute and -38 for extrapolated.\n",
      "Difference in row 616 is -5 for absolute and -162 for extrapolated.\n",
      "Difference in row 620 is -1 for absolute and -33 for extrapolated.\n",
      "Difference in row 630 is -1 for absolute and -33 for extrapolated.\n",
      "Difference in row 668 is -1 for absolute and -38 for extrapolated.\n",
      "Difference in row 908 is -1 for absolute and -38 for extrapolated.\n",
      "Difference in row 928 is -3 for absolute and -97 for extrapolated.\n",
      "Difference in row 956 is -1 for absolute and -38 for extrapolated.\n",
      "Difference in row 996 is -1 for absolute and -50 for extrapolated.\n",
      "Difference in row 1058 is -1 for absolute and -45 for extrapolated.\n",
      "Difference in row 1234 is -1 for absolute and -33 for extrapolated.\n",
      "Difference in row 1262 is -1 for absolute and -38 for extrapolated.\n",
      "Difference in row 1266 is -1 for absolute and -38 for extrapolated.\n",
      "Difference in row 1270 is -9 for absolute and -344 for extrapolated.\n",
      "Difference in row 1296 is -2 for absolute and -99 for extrapolated.\n",
      "Difference in row 1308 is -1 for absolute and -50 for extrapolated.\n",
      "Difference in row 1336 is -1 for absolute and -50 for extrapolated.\n",
      "Difference in row 1486 is -1 for absolute and -41 for extrapolated.\n",
      "Difference in row 1514 is -2 for absolute and -64 for extrapolated.\n",
      "Difference in row 1522 is -14 for absolute and -448 for extrapolated.\n",
      "Difference in row 1536 is -4 for absolute and -151 for extrapolated.\n",
      "Difference in row 1724 is -2 for absolute and -96 for extrapolated.\n",
      "Difference in row 1752 is -1 for absolute and -41 for extrapolated.\n",
      "Difference in row 1824 is -38 for absolute and -1873 for extrapolated.\n",
      "Difference in row 2042 is -2 for absolute and -64 for extrapolated.\n",
      "Difference in row 2120 is -6 for absolute and -117 for extrapolated.\n",
      "Difference in row 2154 is -1 for absolute and -61 for extrapolated.\n",
      "Difference in row 2160 is -1 for absolute and -48 for extrapolated.\n",
      "Difference in row 2244 is -4 for absolute and -129 for extrapolated.\n",
      "Difference in row 2248 is -36 for absolute and -1162 for extrapolated.\n",
      "Difference in row 2254 is -1 for absolute and -33 for extrapolated.\n",
      "Difference in row 2454 is -4 for absolute and -129 for extrapolated.\n",
      "Difference in row 2602 is -2 for absolute and -64 for extrapolated.\n",
      "Difference in row 2772 is -24 for absolute and -1194 for extrapolated.\n",
      "Difference in row 2856 is -4 for absolute and -128 for extrapolated.\n",
      "Difference in row 2870 is -1 for absolute and -38 for extrapolated.\n"
     ]
    }
   ],
   "source": [
    "# # detect duplicates\n",
    "# duplicates = df.duplicated()\n",
    "# print(\"There are\", duplicates.sum(), \"duplicates in the dataset.\")\n",
    "\n",
    "# # print duplicates togehter with the previous original row\n",
    "# df_duplicates_test = pd.concat([df[duplicates], df.iloc[duplicates[duplicates == True].index - 1]], axis=0).sort_index()\n",
    "# df_duplicates_test = df_duplicates_test[['absolute', 'extrapolated']]\n",
    "\n",
    "# # subtract every second row from the previous row\n",
    "# diff_abs = []\n",
    "# diff_ext = []\n",
    "# for i in range(1, df_duplicates_test.shape[0], 2):\n",
    "#     diff_abs.append(df_duplicates_test.iloc[i, 0] - df_duplicates_test.iloc[i-1, 0])\n",
    "#     diff_ext.append(df_duplicates_test.iloc[i, 1] - df_duplicates_test.iloc[i-1, 1])\n",
    "\n",
    "# # print all differences greater than 0\n",
    "# for i in range(len(diff_abs)):\n",
    "#     if diff_abs[i] > 0 or diff_ext[i] > 0:\n",
    "#         print('Difference in row', i*2, 'is', diff_abs[i], 'for absolute and', diff_ext[i], 'for extrapolated.')\n",
    "\n",
    "# # print all differences smaller than 0\n",
    "# for i in range(len(diff_abs)):\n",
    "#     if diff_abs[i] < 0 or diff_ext[i] < 0:\n",
    "#         print('Difference in row', i*2, 'is', diff_abs[i], 'for absolute and', diff_ext[i], 'for extrapolated.')"
   ]
  },
  {
   "cell_type": "code",
   "execution_count": 444,
   "metadata": {},
   "outputs": [],
   "source": [
    "# aggregate duplicates by summing up the values for the columns 'absolute' and 'extrapolated'\n",
    "df = df.groupby(['week','kvregion','region','specialization','gender',\n",
    "            'age_group','insurancecode','insurancetype','risk_groups']).agg({'absolute': 'max', 'extrapolated': 'max'}).reset_index()\n",
    "\n",
    "# safe the cleaned dataset\n",
    "df.to_csv('20025-03-07_cgm-datathon-challenge-flu_riskgroupsv1_cleaned.csv', sep=';', index=False)"
   ]
  }
 ],
 "metadata": {
  "kernelspec": {
   "display_name": "base",
   "language": "python",
   "name": "python3"
  },
  "language_info": {
   "codemirror_mode": {
    "name": "ipython",
    "version": 3
   },
   "file_extension": ".py",
   "mimetype": "text/x-python",
   "name": "python",
   "nbconvert_exporter": "python",
   "pygments_lexer": "ipython3",
   "version": "3.9.12"
  }
 },
 "nbformat": 4,
 "nbformat_minor": 2
}
