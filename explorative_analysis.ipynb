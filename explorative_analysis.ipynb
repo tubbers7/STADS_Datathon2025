{
 "cells": [
  {
   "cell_type": "markdown",
   "metadata": {},
   "source": [
    "## 1) Duplicate Detection and Aggregation via MAX"
   ]
  },
  {
   "cell_type": "code",
   "execution_count": 539,
   "metadata": {},
   "outputs": [],
   "source": [
    "# library imports\n",
    "import pandas as pd"
   ]
  },
  {
   "cell_type": "code",
   "execution_count": 540,
   "metadata": {},
   "outputs": [
    {
     "name": "stdout",
     "output_type": "stream",
     "text": [
      "The file consists of 35994 rows and 11 columns.\n"
     ]
    }
   ],
   "source": [
    "# read csv file\n",
    "df = pd.read_csv('20025-03-07_cgm-datathon-challenge-flu_riskgroupsv1.csv', sep=';')\n",
    "print('The file consists of', df.shape[0], 'rows and', df.shape[1], 'columns.')"
   ]
  },
  {
   "cell_type": "code",
   "execution_count": 541,
   "metadata": {},
   "outputs": [
    {
     "name": "stdout",
     "output_type": "stream",
     "text": [
      "week              object\n",
      "kvregion          object\n",
      "region            object\n",
      "specialization     int64\n",
      "gender            object\n",
      "age_group         object\n",
      "insurancecode     object\n",
      "insurancetype     object\n",
      "risk_groups       object\n",
      "absolute           int64\n",
      "extrapolated       int64\n",
      "dtype: object\n"
     ]
    }
   ],
   "source": [
    "# column types\n",
    "print(df.dtypes)"
   ]
  },
  {
   "cell_type": "code",
   "execution_count": 542,
   "metadata": {},
   "outputs": [],
   "source": [
    "# adapt column types\n",
    "df['week'] = df['week'].astype(str)\n",
    "df['kvregion'] = df['kvregion'].astype(str)\n",
    "df['region'] = df['region'].astype(str)\n",
    "df['gender'] = df['gender'].astype(str)\n",
    "df['age_group'] = df['age_group'].astype(str)\n",
    "df['insurancecode'] = df['insurancecode'].astype(str)\n",
    "df['insurancetype'] = df['insurancetype'].astype(str)\n",
    "df['risk_groups'] = df['risk_groups'].astype(str)"
   ]
  },
  {
   "cell_type": "code",
   "execution_count": 543,
   "metadata": {},
   "outputs": [],
   "source": [
    "# adapt NaN's in column risk_groups\n",
    "df['risk_groups'] = df['risk_groups'].fillna('None')\n",
    "# drop duplicates\n",
    "df = df.drop_duplicates()\n",
    "# df = df.drop_duplicates(['week','kvregion','region','specialization','gender','age_group','insurancecode','insurancetype','risk_groups', 'absolute', 'extrapolated'])\n",
    "# sort dataframe\n",
    "df = df.sort_values(by=['week','kvregion','region','specialization','gender','age_group','insurancecode','insurancetype','risk_groups']).reset_index(drop=True)"
   ]
  },
  {
   "cell_type": "code",
   "execution_count": 544,
   "metadata": {},
   "outputs": [],
   "source": [
    "# # detect duplicates\n",
    "# duplicates = df.duplicated()\n",
    "# print(\"There are\", duplicates.sum(), \"duplicates in the dataset.\")\n",
    "\n",
    "# # print duplicates togehter with the previous original row\n",
    "# df_duplicates_test = pd.concat([df[duplicates], df.iloc[duplicates[duplicates == True].index - 1]], axis=0).sort_index()\n",
    "# df_duplicates_test = df_duplicates_test[['absolute', 'extrapolated']]\n",
    "\n",
    "# # subtract every second row from the previous row\n",
    "# diff_abs = []\n",
    "# diff_ext = []\n",
    "# for i in range(1, df_duplicates_test.shape[0], 2):\n",
    "#     diff_abs.append(df_duplicates_test.iloc[i, 0] - df_duplicates_test.iloc[i-1, 0])\n",
    "#     diff_ext.append(df_duplicates_test.iloc[i, 1] - df_duplicates_test.iloc[i-1, 1])\n",
    "\n",
    "# # print all differences greater than 0\n",
    "# for i in range(len(diff_abs)):\n",
    "#     if diff_abs[i] > 0 or diff_ext[i] > 0:\n",
    "#         print('Difference in row', i*2, 'is', diff_abs[i], 'for absolute and', diff_ext[i], 'for extrapolated.')\n",
    "\n",
    "# # print all differences smaller than 0\n",
    "# for i in range(len(diff_abs)):\n",
    "#     if diff_abs[i] < 0 or diff_ext[i] < 0:\n",
    "#         print('Difference in row', i*2, 'is', diff_abs[i], 'for absolute and', diff_ext[i], 'for extrapolated.')"
   ]
  },
  {
   "cell_type": "code",
   "execution_count": 545,
   "metadata": {},
   "outputs": [],
   "source": [
    "# aggregate duplicates by summing up the values for the columns 'absolute' and 'extrapolated'\n",
    "df = df.groupby(['week','kvregion','region','specialization','gender',\n",
    "            'age_group','insurancecode','insurancetype','risk_groups']).agg({'absolute': 'sum', 'extrapolated': 'sum'}).reset_index()"
   ]
  },
  {
   "cell_type": "code",
   "execution_count": 546,
   "metadata": {},
   "outputs": [],
   "source": [
    "# safe the cleaned dataset\n",
    "df.to_csv('20025-03-07_cgm-datathon-challenge-flu_riskgroupsv1_cleaned.csv', sep=';', index=False)"
   ]
  }
 ],
 "metadata": {
  "kernelspec": {
   "display_name": "base",
   "language": "python",
   "name": "python3"
  },
  "language_info": {
   "codemirror_mode": {
    "name": "ipython",
    "version": 3
   },
   "file_extension": ".py",
   "mimetype": "text/x-python",
   "name": "python",
   "nbconvert_exporter": "python",
   "pygments_lexer": "ipython3",
   "version": "3.9.12"
  }
 },
 "nbformat": 4,
 "nbformat_minor": 2
}
